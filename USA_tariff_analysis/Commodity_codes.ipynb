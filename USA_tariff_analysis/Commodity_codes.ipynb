{
  "nbformat": 4,
  "nbformat_minor": 0,
  "metadata": {
    "colab": {
      "provenance": [],
      "authorship_tag": "ABX9TyMiFC7mkqvxjnBzBjcem33P",
      "include_colab_link": true
    },
    "kernelspec": {
      "name": "python3",
      "display_name": "Python 3"
    },
    "language_info": {
      "name": "python"
    }
  },
  "cells": [
    {
      "cell_type": "markdown",
      "metadata": {
        "id": "view-in-github",
        "colab_type": "text"
      },
      "source": [
        "<a href=\"https://colab.research.google.com/github/vignesh12c/DataViz_analytics_portfolio/blob/main/USA_tariff_analysis/Commodity_codes.ipynb\" target=\"_parent\"><img src=\"https://colab.research.google.com/assets/colab-badge.svg\" alt=\"Open In Colab\"/></a>"
      ]
    },
    {
      "cell_type": "code",
      "execution_count": null,
      "metadata": {
        "colab": {
          "base_uri": "https://localhost:8080/"
        },
        "id": "0SHSQ29ksCHD",
        "outputId": "c8ce4287-44a7-4a5c-db5b-cdc9c3a9cf25"
      },
      "outputs": [
        {
          "output_type": "stream",
          "name": "stdout",
          "text": [
            "Created commodity_codes.xlsx with all 99 HTS chapters\n",
            "You can now run the main USITC DataWeb API query script\n"
          ]
        }
      ],
      "source": [
        "import pandas as pd\n",
        "\n",
        "# Define all HTS chapter codes and descriptions (all 99 chapters)\n",
        "commodity_data = [\n",
        "    {\"code\": \"01\", \"name\": \"LIVE ANIMALS\"},\n",
        "    {\"code\": \"02\", \"name\": \"MEAT AND EDIBLE MEAT OFFAL\"},\n",
        "    {\"code\": \"03\", \"name\": \"FISH AND CRUSTACEANS, MOLLUSCS AND OTHER AQUATIC INVERTEBRATES\"},\n",
        "    {\"code\": \"04\", \"name\": \"DAIRY PRODUCE; BIRDS' EGGS; NATURAL HONEY; EDIBLE PRODUCTS OF ANIMAL ORIGIN\"},\n",
        "    {\"code\": \"05\", \"name\": \"PRODUCTS OF ANIMAL ORIGIN, NOT ELSEWHERE SPECIFIED OR INCLUDED\"},\n",
        "    {\"code\": \"06\", \"name\": \"LIVE TREES AND OTHER PLANTS; BULBS, ROOTS AND THE LIKE; CUT FLOWERS\"},\n",
        "    {\"code\": \"07\", \"name\": \"EDIBLE VEGETABLES AND CERTAIN ROOTS AND TUBERS\"},\n",
        "    {\"code\": \"08\", \"name\": \"EDIBLE FRUIT AND NUTS; PEEL OF CITRUS FRUIT OR MELONS\"},\n",
        "    {\"code\": \"09\", \"name\": \"COFFEE, TEA, MATÉ AND SPICES\"},\n",
        "    {\"code\": \"10\", \"name\": \"CEREALS\"},\n",
        "    {\"code\": \"11\", \"name\": \"MILLING INDUSTRY PRODUCTS; MALT; STARCHES; INULIN; WHEAT GLUTEN\"},\n",
        "    {\"code\": \"12\", \"name\": \"OIL SEEDS AND OLEAGINOUS FRUITS; MISCELLANEOUS GRAINS, SEEDS AND FRUIT\"},\n",
        "    {\"code\": \"13\", \"name\": \"LAC; GUMS, RESINS AND OTHER VEGETABLE SAPS AND EXTRACTS\"},\n",
        "    {\"code\": \"14\", \"name\": \"VEGETABLE PLAITING MATERIALS; VEGETABLE PRODUCTS NOT ELSEWHERE SPECIFIED\"},\n",
        "    {\"code\": \"15\", \"name\": \"ANIMAL OR VEGETABLE FATS AND OILS; PREPARED EDIBLE FATS; ANIMAL OR VEGETABLE WAXES\"},\n",
        "    {\"code\": \"16\", \"name\": \"PREPARATIONS OF MEAT, OF FISH OR OF CRUSTACEANS, MOLLUSCS OR OTHER AQUATIC INVERTEBRATES\"},\n",
        "    {\"code\": \"17\", \"name\": \"SUGARS AND SUGAR CONFECTIONERY\"},\n",
        "    {\"code\": \"18\", \"name\": \"COCOA AND COCOA PREPARATIONS\"},\n",
        "    {\"code\": \"19\", \"name\": \"PREPARATIONS OF CEREALS, FLOUR, STARCH OR MILK; BAKERS' WARES\"},\n",
        "    {\"code\": \"20\", \"name\": \"PREPARATIONS OF VEGETABLES, FRUIT, NUTS OR OTHER PARTS OF PLANTS\"},\n",
        "    {\"code\": \"21\", \"name\": \"MISCELLANEOUS EDIBLE PREPARATIONS\"},\n",
        "    {\"code\": \"22\", \"name\": \"BEVERAGES, SPIRITS AND VINEGAR\"},\n",
        "    {\"code\": \"23\", \"name\": \"RESIDUES AND WASTE FROM THE FOOD INDUSTRIES; PREPARED ANIMAL FEED\"},\n",
        "    {\"code\": \"24\", \"name\": \"TOBACCO AND MANUFACTURED TOBACCO SUBSTITUTES\"},\n",
        "    {\"code\": \"25\", \"name\": \"SALT; SULFUR; EARTHS AND STONE; PLASTERING MATERIALS, LIME AND CEMENT\"},\n",
        "    {\"code\": \"26\", \"name\": \"ORES, SLAG AND ASH\"},\n",
        "    {\"code\": \"27\", \"name\": \"MINERAL FUELS, MINERAL OILS; BITUMINOUS SUBSTANCES; MINERAL WAXES\"},\n",
        "    {\"code\": \"28\", \"name\": \"INORGANIC CHEMICALS; COMPOUNDS OF PRECIOUS METALS, RARE-EARTH METALS, RADIOACTIVE ELEMENTS\"},\n",
        "    {\"code\": \"29\", \"name\": \"ORGANIC CHEMICALS\"},\n",
        "    {\"code\": \"30\", \"name\": \"PHARMACEUTICAL PRODUCTS\"},\n",
        "    {\"code\": \"31\", \"name\": \"FERTILIZERS\"},\n",
        "    {\"code\": \"32\", \"name\": \"TANNING OR DYEING EXTRACTS; TANNINS; DYES, PIGMENTS; PAINTS AND VARNISHES; PUTTY; INKS\"},\n",
        "    {\"code\": \"33\", \"name\": \"ESSENTIAL OILS AND RESINOIDS; PERFUMERY, COSMETIC OR TOILET PREPARATIONS\"},\n",
        "    {\"code\": \"34\", \"name\": \"SOAP, ORGANIC SURFACE-ACTIVE AGENTS; WASHING, LUBRICATING PREPARATIONS; WAXES\"},\n",
        "    {\"code\": \"35\", \"name\": \"ALBUMINOIDAL SUBSTANCES; MODIFIED STARCHES; GLUES; ENZYMES\"},\n",
        "    {\"code\": \"36\", \"name\": \"EXPLOSIVES; PYROTECHNIC PRODUCTS; MATCHES; PYROPHORIC ALLOYS; COMBUSTIBLE MATERIALS\"},\n",
        "    {\"code\": \"37\", \"name\": \"PHOTOGRAPHIC OR CINEMATOGRAPHIC GOODS\"},\n",
        "    {\"code\": \"38\", \"name\": \"MISCELLANEOUS CHEMICAL PRODUCTS\"},\n",
        "    {\"code\": \"39\", \"name\": \"PLASTICS AND ARTICLES THEREOF\"},\n",
        "    {\"code\": \"40\", \"name\": \"RUBBER AND ARTICLES THEREOF\"},\n",
        "    {\"code\": \"41\", \"name\": \"RAW HIDES AND SKINS (OTHER THAN FURSKINS) AND LEATHER\"},\n",
        "    {\"code\": \"42\", \"name\": \"ARTICLES OF LEATHER; SADDLERY AND HARNESS; TRAVEL GOODS, HANDBAGS; ARTICLES OF GUT\"},\n",
        "    {\"code\": \"43\", \"name\": \"FURSKINS AND ARTIFICIAL FUR; MANUFACTURES THEREOF\"},\n",
        "    {\"code\": \"44\", \"name\": \"WOOD AND ARTICLES OF WOOD; WOOD CHARCOAL\"},\n",
        "    {\"code\": \"45\", \"name\": \"CORK AND ARTICLES OF CORK\"},\n",
        "    {\"code\": \"46\", \"name\": \"MANUFACTURES OF STRAW, ESPARTO OR OTHER PLAITING MATERIALS; BASKETWARE AND WICKERWORK\"},\n",
        "    {\"code\": \"47\", \"name\": \"PULP OF WOOD OR OF OTHER FIBROUS CELLULOSIC MATERIAL; RECOVERED PAPER OR PAPERBOARD\"},\n",
        "    {\"code\": \"48\", \"name\": \"PAPER AND PAPERBOARD; ARTICLES OF PAPER PULP, OF PAPER OR OF PAPERBOARD\"},\n",
        "    {\"code\": \"49\", \"name\": \"PRINTED BOOKS, NEWSPAPERS, PICTURES AND OTHER PRODUCTS OF THE PRINTING INDUSTRY\"},\n",
        "    {\"code\": \"50\", \"name\": \"SILK\"},\n",
        "    {\"code\": \"51\", \"name\": \"WOOL, FINE OR COARSE ANIMAL HAIR; HORSEHAIR YARN AND WOVEN FABRIC\"},\n",
        "    {\"code\": \"52\", \"name\": \"COTTON\"},\n",
        "    {\"code\": \"53\", \"name\": \"OTHER VEGETABLE TEXTILE FIBERS; PAPER YARN AND WOVEN FABRICS OF PAPER YARN\"},\n",
        "    {\"code\": \"54\", \"name\": \"MAN-MADE FILAMENTS; STRIP AND THE LIKE OF MAN-MADE TEXTILE MATERIALS\"},\n",
        "    {\"code\": \"55\", \"name\": \"MAN-MADE STAPLE FIBERS\"},\n",
        "    {\"code\": \"56\", \"name\": \"WADDING, FELT AND NONWOVENS; SPECIAL YARNS; TWINE, CORDAGE, ROPES AND CABLES\"},\n",
        "    {\"code\": \"57\", \"name\": \"CARPETS AND OTHER TEXTILE FLOOR COVERINGS\"},\n",
        "    {\"code\": \"58\", \"name\": \"SPECIAL WOVEN FABRICS; TUFTED TEXTILE FABRICS; LACE; TAPESTRIES; TRIMMINGS; EMBROIDERY\"},\n",
        "    {\"code\": \"59\", \"name\": \"IMPREGNATED, COATED, COVERED OR LAMINATED TEXTILE FABRICS; TEXTILE ARTICLES FOR INDUSTRIAL USE\"},\n",
        "    {\"code\": \"60\", \"name\": \"KNITTED OR CROCHETED FABRICS\"},\n",
        "    {\"code\": \"61\", \"name\": \"ARTICLES OF APPAREL AND CLOTHING ACCESSORIES, KNITTED OR CROCHETED\"},\n",
        "    {\"code\": \"62\", \"name\": \"ARTICLES OF APPAREL AND CLOTHING ACCESSORIES, NOT KNITTED OR CROCHETED\"},\n",
        "    {\"code\": \"63\", \"name\": \"OTHER MADE UP TEXTILE ARTICLES; SETS; WORN CLOTHING AND WORN TEXTILE ARTICLES; RAGS\"},\n",
        "    {\"code\": \"64\", \"name\": \"FOOTWEAR, GAITERS AND THE LIKE; PARTS OF SUCH ARTICLES\"},\n",
        "    {\"code\": \"65\", \"name\": \"HEADGEAR AND PARTS THEREOF\"},\n",
        "    {\"code\": \"66\", \"name\": \"UMBRELLAS, SUN UMBRELLAS, WALKING-STICKS, SEAT-STICKS, WHIPS, RIDING-CROPS; PARTS THEREOF\"},\n",
        "    {\"code\": \"67\", \"name\": \"PREP FEATHERS & DOWN; ARTIFICIAL FLOWERS; ARTICLES OF HUMAN HAIR\"},\n",
        "    {\"code\": \"68\", \"name\": \"ARTICLES OF STONE, PLASTER, CEMENT, ASBESTOS, MICA OR SIMILAR MATERIALS\"},\n",
        "    {\"code\": \"69\", \"name\": \"CERAMIC PRODUCTS\"},\n",
        "    {\"code\": \"70\", \"name\": \"GLASS AND GLASSWARE\"},\n",
        "    {\"code\": \"71\", \"name\": \"NATURAL OR CULTURED PEARLS, PRECIOUS OR SEMI-PRECIOUS STONES, PRECIOUS METALS\"},\n",
        "    {\"code\": \"72\", \"name\": \"IRON AND STEEL\"},\n",
        "    {\"code\": \"73\", \"name\": \"ARTICLES OF IRON OR STEEL\"},\n",
        "    {\"code\": \"74\", \"name\": \"COPPER AND ARTICLES THEREOF\"},\n",
        "    {\"code\": \"75\", \"name\": \"NICKEL AND ARTICLES THEREOF\"},\n",
        "    {\"code\": \"76\", \"name\": \"ALUMINUM AND ARTICLES THEREOF\"},\n",
        "    {\"code\": \"78\", \"name\": \"LEAD AND ARTICLES THEREOF\"},\n",
        "    {\"code\": \"79\", \"name\": \"ZINC AND ARTICLES THEREOF\"},\n",
        "    {\"code\": \"80\", \"name\": \"TIN AND ARTICLES THEREOF\"},\n",
        "    {\"code\": \"81\", \"name\": \"OTHER BASE METALS; CERMETS; ARTICLES THEREOF\"},\n",
        "    {\"code\": \"82\", \"name\": \"TOOLS, IMPLEMENTS, CUTLERY, SPOONS AND FORKS, OF BASE METAL; PARTS THEREOF\"},\n",
        "    {\"code\": \"83\", \"name\": \"MISCELLANEOUS ARTICLES OF BASE METAL\"},\n",
        "    {\"code\": \"84\", \"name\": \"NUCLEAR REACTORS, BOILERS, MACHINERY AND MECHANICAL APPLIANCES; PARTS THEREOF\"},\n",
        "    {\"code\": \"85\", \"name\": \"ELECTRICAL MACHINERY AND EQUIPMENT; SOUND RECORDERS AND REPRODUCERS, TELEVISION APPARATUS\"},\n",
        "    {\"code\": \"86\", \"name\": \"RAILWAY OR TRAMWAY LOCOMOTIVES, ROLLING-STOCK AND PARTS THEREOF\"},\n",
        "    {\"code\": \"87\", \"name\": \"VEHICLES OTHER THAN RAILWAY OR TRAMWAY ROLLING-STOCK, AND PARTS AND ACCESSORIES THEREOF\"},\n",
        "    {\"code\": \"88\", \"name\": \"AIRCRAFT, SPACECRAFT, AND PARTS THEREOF\"},\n",
        "    {\"code\": \"89\", \"name\": \"SHIPS, BOATS AND FLOATING STRUCTURES\"},\n",
        "    {\"code\": \"90\", \"name\": \"OPTICAL, PHOTOGRAPHIC, CINEMATOGRAPHIC, MEASURING, CHECKING, PRECISION INSTRUMENTS\"},\n",
        "    {\"code\": \"91\", \"name\": \"CLOCKS AND WATCHES AND PARTS THEREOF\"},\n",
        "    {\"code\": \"92\", \"name\": \"MUSICAL INSTRUMENTS; PARTS AND ACCESSORIES OF SUCH ARTICLES\"},\n",
        "    {\"code\": \"93\", \"name\": \"ARMS AND AMMUNITION; PARTS AND ACCESSORIES THEREOF\"},\n",
        "    {\"code\": \"94\", \"name\": \"FURNITURE; BEDDING, MATTRESSES, CUSHIONS; LAMPS AND LIGHTING FITTINGS; PREFAB BUILDINGS\"},\n",
        "    {\"code\": \"95\", \"name\": \"TOYS, GAMES AND SPORTS REQUISITES; PARTS AND ACCESSORIES THEREOF\"},\n",
        "    {\"code\": \"96\", \"name\": \"MISCELLANEOUS MANUFACTURED ARTICLES\"},\n",
        "    {\"code\": \"97\", \"name\": \"WORKS OF ART, COLLECTORS' PIECES AND ANTIQUES\"},\n",
        "    {\"code\": \"98\", \"name\": \"SPECIAL CLASSIFICATION PROVISIONS, NESOI\"},\n",
        "    {\"code\": \"99\", \"name\": \"SPECIAL IMPORT REPORTING PROVISIONS, NESOI\"}\n",
        "]\n",
        "\n",
        "# Create DataFrame\n",
        "df = pd.DataFrame(commodity_data)\n",
        "\n",
        "# Save to Excel\n",
        "df.to_excel('commodity_codes.xlsx', index=False)\n",
        "print(\"Created commodity_codes.xlsx with all 99 HTS chapters\")\n",
        "print(\"You can now run the main USITC DataWeb API query script\")"
      ]
    },
    {
      "cell_type": "code",
      "source": [],
      "metadata": {
        "id": "DkXRIc23sKwq"
      },
      "execution_count": null,
      "outputs": []
    }
  ]
}