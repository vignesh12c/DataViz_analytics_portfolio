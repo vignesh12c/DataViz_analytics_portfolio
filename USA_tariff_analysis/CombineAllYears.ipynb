{
  "nbformat": 4,
  "nbformat_minor": 0,
  "metadata": {
    "colab": {
      "provenance": [],
      "authorship_tag": "ABX9TyNFvgg+ea2tYZXburJLv1oz",
      "include_colab_link": true
    },
    "kernelspec": {
      "name": "python3",
      "display_name": "Python 3"
    },
    "language_info": {
      "name": "python"
    }
  },
  "cells": [
    {
      "cell_type": "markdown",
      "metadata": {
        "id": "view-in-github",
        "colab_type": "text"
      },
      "source": [
        "<a href=\"https://colab.research.google.com/github/vignesh12c/DataViz_analytics_portfolio/blob/main/USA_tariff_analysis/CombineAllYears.ipynb\" target=\"_parent\"><img src=\"https://colab.research.google.com/assets/colab-badge.svg\" alt=\"Open In Colab\"/></a>"
      ]
    },
    {
      "cell_type": "code",
      "source": [
        "from google.colab import drive\n",
        "drive.mount('/content/drive')"
      ],
      "metadata": {
        "colab": {
          "base_uri": "https://localhost:8080/"
        },
        "id": "2nd5PEkv5Iyq",
        "outputId": "6ad97ef0-e67d-4e49-eff1-ed1defe494fa"
      },
      "execution_count": null,
      "outputs": [
        {
          "output_type": "stream",
          "name": "stdout",
          "text": [
            "Mounted at /content/drive\n"
          ]
        }
      ]
    },
    {
      "cell_type": "code",
      "execution_count": null,
      "metadata": {
        "colab": {
          "base_uri": "https://localhost:8080/"
        },
        "id": "wmEKZwRc440F",
        "outputId": "6f24b30b-4ab1-4641-fa8a-81fb0ad2ed11"
      },
      "outputs": [
        {
          "output_type": "stream",
          "name": "stdout",
          "text": [
            "✅ Saved: /content/drive/MyDrive/DatawebUSITC/csv_output/merged_output/CustomsValue_2020_2025.csv\n",
            "✅ Saved: /content/drive/MyDrive/DatawebUSITC/csv_output/merged_output/cif_2020_2025.csv\n",
            "✅ Saved: /content/drive/MyDrive/DatawebUSITC/csv_output/merged_output/CalcDuties_2020_2025.csv\n",
            "✅ Saved: /content/drive/MyDrive/DatawebUSITC/csv_output/merged_output/import_firstunit_2020_2025.csv\n",
            "✅ Saved: /content/drive/MyDrive/DatawebUSITC/csv_output/merged_output/import_secunit_2020_2025.csv\n"
          ]
        }
      ],
      "source": [
        "import os\n",
        "import pandas as pd\n",
        "\n",
        "# Folder paths\n",
        "input_folder = \"/content/drive/MyDrive/DatawebUSITC/csv_output\"         # Replace with your actual path\n",
        "output_folder = \"/content/drive/MyDrive/DatawebUSITC/csv_output/merged_output\"\n",
        "os.makedirs(output_folder, exist_ok=True)\n",
        "\n",
        "# File types to process\n",
        "categories = [\n",
        "    \"CustomsValue\",\n",
        "    \"cif\",\n",
        "    \"CalcDuties\",\n",
        "    \"import_firstunit\",\n",
        "    \"import_secunit\"\n",
        "]\n",
        "\n",
        "# Years to merge\n",
        "years = range(2020, 2026)\n",
        "\n",
        "# Columns likely to contain commas (monthly)\n",
        "monthly_cols = [\n",
        "    \"January\", \"February\", \"March\", \"April\", \"May\", \"June\",\n",
        "    \"July\", \"August\", \"September\", \"October\", \"November\", \"December\"\n",
        "]\n",
        "\n",
        "# Process each category\n",
        "for category in categories:\n",
        "    combined_df = []\n",
        "\n",
        "    for year in years:\n",
        "        file_name = f\"{category}_{year}.csv\"\n",
        "        file_path = os.path.join(input_folder, file_name)\n",
        "\n",
        "        if os.path.exists(file_path):\n",
        "            try:\n",
        "                df = pd.read_csv(file_path)\n",
        "\n",
        "                # Clean month columns if they exist\n",
        "                for col in monthly_cols:\n",
        "                    if col in df.columns:\n",
        "                        df[col] = df[col].astype(str).str.replace(\",\", \"\").replace(\"nan\", \"0\")\n",
        "                        df[col] = pd.to_numeric(df[col], errors=\"coerce\").fillna(0)\n",
        "\n",
        "                #df[\"Year\"] = year  # Add year column if missing or reinforce it\n",
        "                combined_df.append(df)\n",
        "\n",
        "            except Exception as e:\n",
        "                print(f\"⚠️ Error processing {file_name}: {e}\")\n",
        "        else:\n",
        "            print(f\"🔍 Skipping missing file: {file_name}\")\n",
        "\n",
        "    if combined_df:\n",
        "        merged = pd.concat(combined_df, ignore_index=True)\n",
        "        out_path = os.path.join(output_folder, f\"{category}_2020_2025.csv\")\n",
        "        merged.to_csv(out_path, index=False)\n",
        "        print(f\"✅ Saved: {out_path}\")\n",
        "    else:\n",
        "        print(f\"⚠️ No data found for category: {category}\")\n"
      ]
    },
    {
      "cell_type": "code",
      "source": [],
      "metadata": {
        "id": "LYXYd4eM6Oj_"
      },
      "execution_count": null,
      "outputs": []
    }
  ]
}