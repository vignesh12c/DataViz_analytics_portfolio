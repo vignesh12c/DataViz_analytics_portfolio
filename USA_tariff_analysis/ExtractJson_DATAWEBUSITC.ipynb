{
  "nbformat": 4,
  "nbformat_minor": 0,
  "metadata": {
    "colab": {
      "provenance": [],
      "authorship_tag": "ABX9TyMa/V40jlcnw7xMrWio6W7f",
      "include_colab_link": true
    },
    "kernelspec": {
      "name": "python3",
      "display_name": "Python 3"
    },
    "language_info": {
      "name": "python"
    }
  },
  "cells": [
    {
      "cell_type": "markdown",
      "metadata": {
        "id": "view-in-github",
        "colab_type": "text"
      },
      "source": [
        "<a href=\"https://colab.research.google.com/github/vignesh12c/DataViz_analytics_portfolio/blob/main/USA_tariff_analysis/ExtractJson_DATAWEBUSITC.ipynb\" target=\"_parent\"><img src=\"https://colab.research.google.com/assets/colab-badge.svg\" alt=\"Open In Colab\"/></a>"
      ]
    },
    {
      "cell_type": "code",
      "source": [
        "from google.colab import drive\n",
        "drive.mount('/content/drive')\n"
      ],
      "metadata": {
        "colab": {
          "base_uri": "https://localhost:8080/"
        },
        "id": "WYdtJUdshaE_",
        "outputId": "5caafa2a-f4ef-4017-e321-b368150c2dfb"
      },
      "execution_count": null,
      "outputs": [
        {
          "output_type": "stream",
          "name": "stdout",
          "text": [
            "Mounted at /content/drive\n"
          ]
        }
      ]
    },
    {
      "cell_type": "code",
      "execution_count": null,
      "metadata": {
        "id": "FeMUq7j7NAhb"
      },
      "outputs": [],
      "source": [
        "import json\n",
        "import pandas as pd\n",
        "\n",
        "# Load the JSON file\n",
        "json_path = \"/mnt/data/CustomsValue_commodity_01_2020_2021.json\"\n",
        "with open(json_path, \"r\") as file:\n",
        "    data = json.load(file)\n",
        "\n",
        "# Extract the rows\n",
        "rows = data[\"dto\"][\"tables\"][0][\"row_groups\"][0][\"rowsNew\"]\n",
        "\n",
        "# Define column headers\n",
        "columns = [\n",
        "    \"Country\", \"Year\", \"District\", \"Program\", \"RPC Description\", \"HTS Number\",\n",
        "    \"January\", \"February\", \"March\", \"April\", \"May\", \"June\",\n",
        "    \"July\", \"August\", \"September\", \"October\", \"November\", \"December\"\n",
        "]\n",
        "\n",
        "# Extract values from each row\n",
        "parsed_data = []\n",
        "for row in rows:\n",
        "    values = [entry[\"value\"] for entry in row[\"rowEntries\"]]\n",
        "    parsed_data.append(values)\n",
        "\n",
        "# Create DataFrame\n",
        "df = pd.DataFrame(parsed_data, columns=columns)\n",
        "\n",
        "# Save to CSV\n",
        "csv_path = \"/mnt/data/CustomsValue_commodity_01_2020_2021.csv\"\n",
        "df.to_csv(csv_path, index=False)\n",
        "\n",
        "csv_path\n"
      ]
    },
    {
      "cell_type": "code",
      "source": [
        "import os\n",
        "import json\n",
        "import pandas as pd\n",
        "from glob import glob\n",
        "\n",
        "# Directory containing all JSON files\n",
        "json_folder = \"/content/drive/MyDrive/DatawebUSITC/CustomsValue_2020_2025/\"\n",
        "\n",
        "# Prepare output structure per year\n",
        "yearly_data = {\n",
        "    \"2020\": [],\n",
        "    \"2021\": [],\n",
        "    \"2022\": [],\n",
        "    \"2023\": [],\n",
        "    \"2024\": [],\n",
        "    \"2025\": []\n",
        "}\n",
        "\n",
        "# Expected columns\n",
        "columns = [\n",
        "    \"Country\", \"Year\", \"District\", \"Program\", \"RPC Description\", \"HTS Number\",\n",
        "    \"January\", \"February\", \"March\", \"April\", \"May\", \"June\",\n",
        "    \"July\", \"August\", \"September\", \"October\", \"November\", \"December\"\n",
        "]\n",
        "\n",
        "# Process each JSON file\n",
        "for file_path in glob(os.path.join(json_folder, \"*.json\")):\n",
        "    with open(file_path, \"r\") as file:\n",
        "        data = json.load(file)\n",
        "        rows = data[\"dto\"][\"tables\"][0][\"row_groups\"][0][\"rowsNew\"]\n",
        "        for row in rows:\n",
        "            values = [entry[\"value\"] for entry in row[\"rowEntries\"]]\n",
        "            if len(values) == len(columns):\n",
        "                year = values[1]\n",
        "                if year in yearly_data:\n",
        "                    yearly_data[year].append(values)\n",
        "\n",
        "# Save one CSV per year\n",
        "output_folder = \"/content/drive/MyDrive/DatawebUSITC/csv_output/\"\n",
        "os.makedirs(output_folder, exist_ok=True)\n",
        "\n",
        "for year, records in yearly_data.items():\n",
        "    if records:  # Only write if there's data\n",
        "        df = pd.DataFrame(records, columns=columns)\n",
        "        df.to_csv(os.path.join(output_folder, f\"CustomsValue_{year}.csv\"), index=False)\n",
        "\n",
        "print(\"✅ All yearly CSVs created.\")\n"
      ],
      "metadata": {
        "colab": {
          "base_uri": "https://localhost:8080/",
          "height": 216
        },
        "id": "0SXbBq1dXg30",
        "outputId": "1b1ff677-7e89-41bc-a08d-7f6dbf4606df"
      },
      "execution_count": null,
      "outputs": [
        {
          "output_type": "error",
          "ename": "TypeError",
          "evalue": "'NoneType' object is not subscriptable",
          "traceback": [
            "\u001b[0;31m---------------------------------------------------------------------------\u001b[0m",
            "\u001b[0;31mTypeError\u001b[0m                                 Traceback (most recent call last)",
            "\u001b[0;32m<ipython-input-2-99e7f6e69b1b>\u001b[0m in \u001b[0;36m<cell line: 0>\u001b[0;34m()\u001b[0m\n\u001b[1;32m     28\u001b[0m     \u001b[0;32mwith\u001b[0m \u001b[0mopen\u001b[0m\u001b[0;34m(\u001b[0m\u001b[0mfile_path\u001b[0m\u001b[0;34m,\u001b[0m \u001b[0;34m\"r\"\u001b[0m\u001b[0;34m)\u001b[0m \u001b[0;32mas\u001b[0m \u001b[0mfile\u001b[0m\u001b[0;34m:\u001b[0m\u001b[0;34m\u001b[0m\u001b[0;34m\u001b[0m\u001b[0m\n\u001b[1;32m     29\u001b[0m         \u001b[0mdata\u001b[0m \u001b[0;34m=\u001b[0m \u001b[0mjson\u001b[0m\u001b[0;34m.\u001b[0m\u001b[0mload\u001b[0m\u001b[0;34m(\u001b[0m\u001b[0mfile\u001b[0m\u001b[0;34m)\u001b[0m\u001b[0;34m\u001b[0m\u001b[0;34m\u001b[0m\u001b[0m\n\u001b[0;32m---> 30\u001b[0;31m         \u001b[0mrows\u001b[0m \u001b[0;34m=\u001b[0m \u001b[0mdata\u001b[0m\u001b[0;34m[\u001b[0m\u001b[0;34m\"dto\"\u001b[0m\u001b[0;34m]\u001b[0m\u001b[0;34m[\u001b[0m\u001b[0;34m\"tables\"\u001b[0m\u001b[0;34m]\u001b[0m\u001b[0;34m[\u001b[0m\u001b[0;36m0\u001b[0m\u001b[0;34m]\u001b[0m\u001b[0;34m[\u001b[0m\u001b[0;34m\"row_groups\"\u001b[0m\u001b[0;34m]\u001b[0m\u001b[0;34m[\u001b[0m\u001b[0;36m0\u001b[0m\u001b[0;34m]\u001b[0m\u001b[0;34m[\u001b[0m\u001b[0;34m\"rowsNew\"\u001b[0m\u001b[0;34m]\u001b[0m\u001b[0;34m\u001b[0m\u001b[0;34m\u001b[0m\u001b[0m\n\u001b[0m\u001b[1;32m     31\u001b[0m         \u001b[0;32mfor\u001b[0m \u001b[0mrow\u001b[0m \u001b[0;32min\u001b[0m \u001b[0mrows\u001b[0m\u001b[0;34m:\u001b[0m\u001b[0;34m\u001b[0m\u001b[0;34m\u001b[0m\u001b[0m\n\u001b[1;32m     32\u001b[0m             \u001b[0mvalues\u001b[0m \u001b[0;34m=\u001b[0m \u001b[0;34m[\u001b[0m\u001b[0mentry\u001b[0m\u001b[0;34m[\u001b[0m\u001b[0;34m\"value\"\u001b[0m\u001b[0;34m]\u001b[0m \u001b[0;32mfor\u001b[0m \u001b[0mentry\u001b[0m \u001b[0;32min\u001b[0m \u001b[0mrow\u001b[0m\u001b[0;34m[\u001b[0m\u001b[0;34m\"rowEntries\"\u001b[0m\u001b[0;34m]\u001b[0m\u001b[0;34m]\u001b[0m\u001b[0;34m\u001b[0m\u001b[0;34m\u001b[0m\u001b[0m\n",
            "\u001b[0;31mTypeError\u001b[0m: 'NoneType' object is not subscriptable"
          ]
        }
      ]
    },
    {
      "cell_type": "code",
      "source": [
        "import os\n",
        "import json\n",
        "import pandas as pd\n",
        "from glob import glob\n",
        "\n",
        "json_folder = \"/content/drive/MyDrive/DatawebUSITC/cif_2020_2025/\"\n",
        "output_folder = \"/content/drive/MyDrive/DatawebUSITC/csv_output/\"\n",
        "os.makedirs(output_folder, exist_ok=True)\n",
        "\n",
        "yearly_data = {str(y): [] for y in range(2020, 2026)}\n",
        "\n",
        "columns = [\n",
        "    \"Country\", \"Year\", \"District\", \"Program\", \"RPC Description\", \"HTS Number\",\n",
        "    \"January\", \"February\", \"March\", \"April\", \"May\", \"June\",\n",
        "    \"July\", \"August\", \"September\", \"October\", \"November\", \"December\"\n",
        "]\n",
        "\n",
        "for file_path in glob(os.path.join(json_folder, \"*.json\")):\n",
        "    try:\n",
        "        with open(file_path, \"r\") as file:\n",
        "            data = json.load(file)\n",
        "\n",
        "        tables = data.get(\"dto\", {}).get(\"tables\", [])\n",
        "        if not tables:\n",
        "            print(f\"⚠️ Skipping {file_path}: No tables found.\")\n",
        "            continue\n",
        "\n",
        "        row_groups = tables[0].get(\"row_groups\", [])\n",
        "        if not row_groups or not row_groups[0].get(\"rowsNew\"):\n",
        "            print(f\"⚠️ Skipping {file_path}: No row data found.\")\n",
        "            continue\n",
        "\n",
        "        rows = row_groups[0][\"rowsNew\"]\n",
        "        for row in rows:\n",
        "            values = [entry[\"value\"] for entry in row[\"rowEntries\"]]\n",
        "            if len(values) == len(columns):\n",
        "                year = values[1]\n",
        "                if year in yearly_data:\n",
        "                    yearly_data[year].append(values)\n",
        "\n",
        "    except Exception as e:\n",
        "        print(f\"❌ Error processing {file_path}: {e}\")\n",
        "\n",
        "# Save to CSVs\n",
        "for year, records in yearly_data.items():\n",
        "    if records:\n",
        "        df = pd.DataFrame(records, columns=columns)\n",
        "        df.to_csv(os.path.join(output_folder, f\"cif_{year}.csv\"), index=False)\n",
        "\n",
        "print(\"✅ All valid JSON files have been processed.\")\n"
      ],
      "metadata": {
        "colab": {
          "base_uri": "https://localhost:8080/",
          "height": 454
        },
        "id": "uSb-Jil8iPdC",
        "outputId": "21c5afef-4e46-41ba-e127-d33be45e603a"
      },
      "execution_count": null,
      "outputs": [
        {
          "output_type": "stream",
          "name": "stdout",
          "text": [
            "❌ Error processing /content/drive/MyDrive/DatawebUSITC/cif_2020_2025/cif_commodity_39_2020_2021.json: 'NoneType' object has no attribute 'get'\n",
            "❌ Error processing /content/drive/MyDrive/DatawebUSITC/cif_2020_2025/cif_commodity_39_2021_2022.json: 'NoneType' object has no attribute 'get'\n",
            "❌ Error processing /content/drive/MyDrive/DatawebUSITC/cif_2020_2025/cif_commodity_39_2022_2023.json: 'NoneType' object has no attribute 'get'\n",
            "❌ Error processing /content/drive/MyDrive/DatawebUSITC/cif_2020_2025/cif_commodity_39_2023_2024.json: 'NoneType' object has no attribute 'get'\n",
            "❌ Error processing /content/drive/MyDrive/DatawebUSITC/cif_2020_2025/cif_commodity_39_2024_2025.json: 'NoneType' object has no attribute 'get'\n"
          ]
        },
        {
          "output_type": "error",
          "ename": "KeyboardInterrupt",
          "evalue": "",
          "traceback": [
            "\u001b[0;31m---------------------------------------------------------------------------\u001b[0m",
            "\u001b[0;31mKeyboardInterrupt\u001b[0m                         Traceback (most recent call last)",
            "\u001b[0;32m<ipython-input-5-ba906a9b57d6>\u001b[0m in \u001b[0;36m<cell line: 0>\u001b[0;34m()\u001b[0m\n\u001b[1;32m     19\u001b[0m     \u001b[0;32mtry\u001b[0m\u001b[0;34m:\u001b[0m\u001b[0;34m\u001b[0m\u001b[0;34m\u001b[0m\u001b[0m\n\u001b[1;32m     20\u001b[0m         \u001b[0;32mwith\u001b[0m \u001b[0mopen\u001b[0m\u001b[0;34m(\u001b[0m\u001b[0mfile_path\u001b[0m\u001b[0;34m,\u001b[0m \u001b[0;34m\"r\"\u001b[0m\u001b[0;34m)\u001b[0m \u001b[0;32mas\u001b[0m \u001b[0mfile\u001b[0m\u001b[0;34m:\u001b[0m\u001b[0;34m\u001b[0m\u001b[0;34m\u001b[0m\u001b[0m\n\u001b[0;32m---> 21\u001b[0;31m             \u001b[0mdata\u001b[0m \u001b[0;34m=\u001b[0m \u001b[0mjson\u001b[0m\u001b[0;34m.\u001b[0m\u001b[0mload\u001b[0m\u001b[0;34m(\u001b[0m\u001b[0mfile\u001b[0m\u001b[0;34m)\u001b[0m\u001b[0;34m\u001b[0m\u001b[0;34m\u001b[0m\u001b[0m\n\u001b[0m\u001b[1;32m     22\u001b[0m \u001b[0;34m\u001b[0m\u001b[0m\n\u001b[1;32m     23\u001b[0m         \u001b[0mtables\u001b[0m \u001b[0;34m=\u001b[0m \u001b[0mdata\u001b[0m\u001b[0;34m.\u001b[0m\u001b[0mget\u001b[0m\u001b[0;34m(\u001b[0m\u001b[0;34m\"dto\"\u001b[0m\u001b[0;34m,\u001b[0m \u001b[0;34m{\u001b[0m\u001b[0;34m}\u001b[0m\u001b[0;34m)\u001b[0m\u001b[0;34m.\u001b[0m\u001b[0mget\u001b[0m\u001b[0;34m(\u001b[0m\u001b[0;34m\"tables\"\u001b[0m\u001b[0;34m,\u001b[0m \u001b[0;34m[\u001b[0m\u001b[0;34m]\u001b[0m\u001b[0;34m)\u001b[0m\u001b[0;34m\u001b[0m\u001b[0;34m\u001b[0m\u001b[0m\n",
            "\u001b[0;32m/usr/lib/python3.11/json/__init__.py\u001b[0m in \u001b[0;36mload\u001b[0;34m(fp, cls, object_hook, parse_float, parse_int, parse_constant, object_pairs_hook, **kw)\u001b[0m\n\u001b[1;32m    291\u001b[0m     \u001b[0mkwarg\u001b[0m\u001b[0;34m;\u001b[0m \u001b[0motherwise\u001b[0m\u001b[0;31m \u001b[0m\u001b[0;31m`\u001b[0m\u001b[0;31m`\u001b[0m\u001b[0mJSONDecoder\u001b[0m\u001b[0;31m`\u001b[0m\u001b[0;31m`\u001b[0m \u001b[0;32mis\u001b[0m \u001b[0mused\u001b[0m\u001b[0;34m.\u001b[0m\u001b[0;34m\u001b[0m\u001b[0;34m\u001b[0m\u001b[0m\n\u001b[1;32m    292\u001b[0m     \"\"\"\n\u001b[0;32m--> 293\u001b[0;31m     return loads(fp.read(),\n\u001b[0m\u001b[1;32m    294\u001b[0m         \u001b[0mcls\u001b[0m\u001b[0;34m=\u001b[0m\u001b[0mcls\u001b[0m\u001b[0;34m,\u001b[0m \u001b[0mobject_hook\u001b[0m\u001b[0;34m=\u001b[0m\u001b[0mobject_hook\u001b[0m\u001b[0;34m,\u001b[0m\u001b[0;34m\u001b[0m\u001b[0;34m\u001b[0m\u001b[0m\n\u001b[1;32m    295\u001b[0m         \u001b[0mparse_float\u001b[0m\u001b[0;34m=\u001b[0m\u001b[0mparse_float\u001b[0m\u001b[0;34m,\u001b[0m \u001b[0mparse_int\u001b[0m\u001b[0;34m=\u001b[0m\u001b[0mparse_int\u001b[0m\u001b[0;34m,\u001b[0m\u001b[0;34m\u001b[0m\u001b[0;34m\u001b[0m\u001b[0m\n",
            "\u001b[0;32m/usr/lib/python3.11/json/__init__.py\u001b[0m in \u001b[0;36mloads\u001b[0;34m(s, cls, object_hook, parse_float, parse_int, parse_constant, object_pairs_hook, **kw)\u001b[0m\n\u001b[1;32m    344\u001b[0m             \u001b[0mparse_int\u001b[0m \u001b[0;32mis\u001b[0m \u001b[0;32mNone\u001b[0m \u001b[0;32mand\u001b[0m \u001b[0mparse_float\u001b[0m \u001b[0;32mis\u001b[0m \u001b[0;32mNone\u001b[0m \u001b[0;32mand\u001b[0m\u001b[0;34m\u001b[0m\u001b[0;34m\u001b[0m\u001b[0m\n\u001b[1;32m    345\u001b[0m             parse_constant is None and object_pairs_hook is None and not kw):\n\u001b[0;32m--> 346\u001b[0;31m         \u001b[0;32mreturn\u001b[0m \u001b[0m_default_decoder\u001b[0m\u001b[0;34m.\u001b[0m\u001b[0mdecode\u001b[0m\u001b[0;34m(\u001b[0m\u001b[0ms\u001b[0m\u001b[0;34m)\u001b[0m\u001b[0;34m\u001b[0m\u001b[0;34m\u001b[0m\u001b[0m\n\u001b[0m\u001b[1;32m    347\u001b[0m     \u001b[0;32mif\u001b[0m \u001b[0mcls\u001b[0m \u001b[0;32mis\u001b[0m \u001b[0;32mNone\u001b[0m\u001b[0;34m:\u001b[0m\u001b[0;34m\u001b[0m\u001b[0;34m\u001b[0m\u001b[0m\n\u001b[1;32m    348\u001b[0m         \u001b[0mcls\u001b[0m \u001b[0;34m=\u001b[0m \u001b[0mJSONDecoder\u001b[0m\u001b[0;34m\u001b[0m\u001b[0;34m\u001b[0m\u001b[0m\n",
            "\u001b[0;32m/usr/lib/python3.11/json/decoder.py\u001b[0m in \u001b[0;36mdecode\u001b[0;34m(self, s, _w)\u001b[0m\n\u001b[1;32m    335\u001b[0m \u001b[0;34m\u001b[0m\u001b[0m\n\u001b[1;32m    336\u001b[0m         \"\"\"\n\u001b[0;32m--> 337\u001b[0;31m         \u001b[0mobj\u001b[0m\u001b[0;34m,\u001b[0m \u001b[0mend\u001b[0m \u001b[0;34m=\u001b[0m \u001b[0mself\u001b[0m\u001b[0;34m.\u001b[0m\u001b[0mraw_decode\u001b[0m\u001b[0;34m(\u001b[0m\u001b[0ms\u001b[0m\u001b[0;34m,\u001b[0m \u001b[0midx\u001b[0m\u001b[0;34m=\u001b[0m\u001b[0m_w\u001b[0m\u001b[0;34m(\u001b[0m\u001b[0ms\u001b[0m\u001b[0;34m,\u001b[0m \u001b[0;36m0\u001b[0m\u001b[0;34m)\u001b[0m\u001b[0;34m.\u001b[0m\u001b[0mend\u001b[0m\u001b[0;34m(\u001b[0m\u001b[0;34m)\u001b[0m\u001b[0;34m)\u001b[0m\u001b[0;34m\u001b[0m\u001b[0;34m\u001b[0m\u001b[0m\n\u001b[0m\u001b[1;32m    338\u001b[0m         \u001b[0mend\u001b[0m \u001b[0;34m=\u001b[0m \u001b[0m_w\u001b[0m\u001b[0;34m(\u001b[0m\u001b[0ms\u001b[0m\u001b[0;34m,\u001b[0m \u001b[0mend\u001b[0m\u001b[0;34m)\u001b[0m\u001b[0;34m.\u001b[0m\u001b[0mend\u001b[0m\u001b[0;34m(\u001b[0m\u001b[0;34m)\u001b[0m\u001b[0;34m\u001b[0m\u001b[0;34m\u001b[0m\u001b[0m\n\u001b[1;32m    339\u001b[0m         \u001b[0;32mif\u001b[0m \u001b[0mend\u001b[0m \u001b[0;34m!=\u001b[0m \u001b[0mlen\u001b[0m\u001b[0;34m(\u001b[0m\u001b[0ms\u001b[0m\u001b[0;34m)\u001b[0m\u001b[0;34m:\u001b[0m\u001b[0;34m\u001b[0m\u001b[0;34m\u001b[0m\u001b[0m\n",
            "\u001b[0;32m/usr/lib/python3.11/json/decoder.py\u001b[0m in \u001b[0;36mraw_decode\u001b[0;34m(self, s, idx)\u001b[0m\n\u001b[1;32m    351\u001b[0m         \"\"\"\n\u001b[1;32m    352\u001b[0m         \u001b[0;32mtry\u001b[0m\u001b[0;34m:\u001b[0m\u001b[0;34m\u001b[0m\u001b[0;34m\u001b[0m\u001b[0m\n\u001b[0;32m--> 353\u001b[0;31m             \u001b[0mobj\u001b[0m\u001b[0;34m,\u001b[0m \u001b[0mend\u001b[0m \u001b[0;34m=\u001b[0m \u001b[0mself\u001b[0m\u001b[0;34m.\u001b[0m\u001b[0mscan_once\u001b[0m\u001b[0;34m(\u001b[0m\u001b[0ms\u001b[0m\u001b[0;34m,\u001b[0m \u001b[0midx\u001b[0m\u001b[0;34m)\u001b[0m\u001b[0;34m\u001b[0m\u001b[0;34m\u001b[0m\u001b[0m\n\u001b[0m\u001b[1;32m    354\u001b[0m         \u001b[0;32mexcept\u001b[0m \u001b[0mStopIteration\u001b[0m \u001b[0;32mas\u001b[0m \u001b[0merr\u001b[0m\u001b[0;34m:\u001b[0m\u001b[0;34m\u001b[0m\u001b[0;34m\u001b[0m\u001b[0m\n\u001b[1;32m    355\u001b[0m             \u001b[0;32mraise\u001b[0m \u001b[0mJSONDecodeError\u001b[0m\u001b[0;34m(\u001b[0m\u001b[0;34m\"Expecting value\"\u001b[0m\u001b[0;34m,\u001b[0m \u001b[0ms\u001b[0m\u001b[0;34m,\u001b[0m \u001b[0merr\u001b[0m\u001b[0;34m.\u001b[0m\u001b[0mvalue\u001b[0m\u001b[0;34m)\u001b[0m \u001b[0;32mfrom\u001b[0m \u001b[0;32mNone\u001b[0m\u001b[0;34m\u001b[0m\u001b[0;34m\u001b[0m\u001b[0m\n",
            "\u001b[0;31mKeyboardInterrupt\u001b[0m: "
          ]
        }
      ]
    },
    {
      "cell_type": "code",
      "source": [
        "import os\n",
        "import json\n",
        "import pandas as pd\n",
        "from glob import glob\n",
        "\n",
        "# Define folders\n",
        "json_folder = \"/content/drive/MyDrive/DatawebUSITC/firstquantity_2020_2025/\"\n",
        "output_folder = \"/content/drive/MyDrive/DatawebUSITC/csv_output/\"\n",
        "log_file = os.path.join(output_folder, \"skipped_files_log.txt\")\n",
        "os.makedirs(output_folder, exist_ok=True)\n",
        "\n",
        "# Yearly buckets\n",
        "yearly_data = {str(y): [] for y in range(2020, 2026)}\n",
        "\n",
        "# CSV columns\n",
        "columns = [\n",
        "    \"Country\", \"Year\", \"District\", \"Program\", \"RPC Description\", \"HTS Number\",\n",
        "    \"January\", \"February\", \"March\", \"April\", \"May\", \"June\",\n",
        "    \"July\", \"August\", \"September\", \"October\", \"November\", \"December\"\n",
        "]\n",
        "\n",
        "# Log skipped files\n",
        "skipped_files = []\n",
        "\n",
        "# Process files\n",
        "for file_path in glob(os.path.join(json_folder, \"*.json\")):\n",
        "    try:\n",
        "        with open(file_path, \"r\") as file:\n",
        "            data = json.load(file)\n",
        "\n",
        "        tables = data.get(\"dto\", {}).get(\"tables\", [])\n",
        "        if not tables:\n",
        "            skipped_files.append(f\"{file_path}: No tables found\")\n",
        "            continue\n",
        "\n",
        "        row_groups = tables[0].get(\"row_groups\", [])\n",
        "        if not row_groups or not row_groups[0].get(\"rowsNew\"):\n",
        "            skipped_files.append(f\"{file_path}: No row data found\")\n",
        "            continue\n",
        "\n",
        "        rows = row_groups[0][\"rowsNew\"]\n",
        "        for row in rows:\n",
        "            values = [entry[\"value\"] for entry in row[\"rowEntries\"]]\n",
        "            if len(values) == len(columns):\n",
        "                year = values[1]\n",
        "                if year in yearly_data:\n",
        "                    yearly_data[year].append(values)\n",
        "\n",
        "    except Exception as e:\n",
        "        skipped_files.append(f\"{file_path}: {str(e)}\")\n",
        "\n",
        "# Save yearly CSVs\n",
        "for year, records in yearly_data.items():\n",
        "    if records:\n",
        "        df = pd.DataFrame(records, columns=columns)\n",
        "        df.to_csv(os.path.join(output_folder, f\"firstquantity_{year}.csv\"), index=False)\n",
        "\n",
        "# Write skipped file log\n",
        "with open(log_file, \"a\") as log:\n",
        "    log.write(\"\\n\".join(skipped_files))\n",
        "\n",
        "print(f\"✅ All valid files processed. Skipped files logged to:\\n{log_file}\")\n"
      ],
      "metadata": {
        "colab": {
          "base_uri": "https://localhost:8080/"
        },
        "id": "r8LP5gzxlPSb",
        "outputId": "d56ff0e8-60ab-4dfe-f575-8cce092bc378"
      },
      "execution_count": null,
      "outputs": [
        {
          "output_type": "stream",
          "name": "stdout",
          "text": [
            "✅ All valid files processed. Skipped files logged to:\n",
            "/content/drive/MyDrive/DatawebUSITC/csv_output/skipped_files_log.txt\n"
          ]
        }
      ]
    },
    {
      "cell_type": "code",
      "source": [
        "OUTPUT_FOLDER= \"/content/drive/MyDrive/DatawebUSITC\""
      ],
      "metadata": {
        "id": "athX3whkvwmP"
      },
      "execution_count": null,
      "outputs": []
    },
    {
      "cell_type": "code",
      "source": [
        "from tqdm import tqdm\n",
        "import requests\n",
        "import json\n",
        "import time\n",
        "import os\n",
        "import pandas as pd\n",
        "import re"
      ],
      "metadata": {
        "id": "PXplgcVNy3Vq"
      },
      "execution_count": null,
      "outputs": []
    },
    {
      "cell_type": "code",
      "source": [
        "# Configuration\n",
        "API_ENDPOINT = 'https://datawebws.usitc.gov/dataweb/api/v2/report2/runReport'  # Update with the correct endpoint\n",
        "API_TOKEN = 'TOKEN'\n",
        "OUTPUT_FOLDER= \"/content/drive/MyDrive/DatawebUSITC\"\n",
        "EXCEL_PATH = \"/content/drive/MyDrive/DatawebUSITC/commodity_codes.xlsx\"  # Path to your Excel file with commodity codes and names"
      ],
      "metadata": {
        "id": "ofADRyTxzO98"
      },
      "execution_count": null,
      "outputs": []
    },
    {
      "cell_type": "code",
      "source": [
        "def read_commodity_excel(excel_path):\n",
        "    commodities_df = pd.read_excel(excel_path)\n",
        "    # Ensure codes are strings with leading zeros if needed\n",
        "    commodities_df['code'] = commodities_df['code'].astype(str).str.zfill(2)\n",
        "    return commodities_df"
      ],
      "metadata": {
        "id": "r0O7KwSX1Rg_"
      },
      "execution_count": null,
      "outputs": []
    },
    {
      "cell_type": "code",
      "source": [
        "commodities_df = read_commodity_excel(EXCEL_PATH)"
      ],
      "metadata": {
        "id": "Y6OLioI61XrL"
      },
      "execution_count": null,
      "outputs": []
    },
    {
      "cell_type": "code",
      "source": [
        "# Template query from your example\n",
        "def get_query_template():\n",
        "    return {\n",
        "        'savedQueryDatabaseId': None,\n",
        "        'savedQueryID': '',\n",
        "        'savedQueryName': '',\n",
        "        'savedQueryDesc': '',\n",
        "        'savedQueryType': '',\n",
        "        'jobID': None,\n",
        "        'jobState': None,\n",
        "        'folderID': None,\n",
        "        'folderName': None,\n",
        "        'expandedGroups': {'commodities': [], 'countries': [], 'districts': []},\n",
        "        'isOwner': True,\n",
        "        'apiToken': '',\n",
        "        'captchaResponse': '',\n",
        "        'captchaValid': False,\n",
        "        'queryJSON': '',\n",
        "        'runMonthly': None,\n",
        "        'deletedCountryUserGroups': [],\n",
        "        'deletedCommodityUserGroups': [],\n",
        "        'deletedDistrictUserGroups': [],\n",
        "        'reportOptions': {'tradeType': 'Import', 'classificationSystem': 'HTS'},\n",
        "        'searchOptions': {'componentSettings': {'dataToReport': ['CONS_CUSTOMS_VALUE'],\n",
        "            'scale': '1',\n",
        "            'timeframeSelectType': 'specificDateRange',\n",
        "            'years': [],\n",
        "            'startDate': '01/2020',\n",
        "            'endDate': '01/2021',\n",
        "            'startMonth': None,\n",
        "            'endMonth': None,\n",
        "            'yearsTimeline': 'Monthly'},\n",
        "            'commodities': {'commodities': ['11'],\n",
        "            'commoditiesExpanded': [{'name': 'MILLING INDUSTRY PRODUCTS; MALT; STARCHES; INULIN; WHEAT GLUTEN',\n",
        "                'value': '11',\n",
        "                'hasChildren': None}],\n",
        "            'commoditiesManual': '11',\n",
        "            'commodityGroups': {'systemGroups': [], 'userGroups': []},\n",
        "            'granularity': '2',\n",
        "            'searchGranularity': '2',\n",
        "            'groupGranularity': '2',\n",
        "            'aggregation': 'Break Out Commodities',\n",
        "            'codeDisplayFormat': 'NO',\n",
        "            'commoditySelectType': 'list',\n",
        "            'showHTSValidDetails': False},\n",
        "            'countries': {'countries': [],\n",
        "            'countriesExpanded': [],\n",
        "            'countryGroups': {'systemGroups': [], 'userGroups': []},\n",
        "            'aggregation': 'Break Out Countries',\n",
        "            'countriesSelectType': 'all'},\n",
        "            'MiscGroup': {'importPrograms': {'importPrograms': [],\n",
        "            'aggregation': 'Aggregate CSC'},\n",
        "            'extImportPrograms': {'programsSelectType': 'all',\n",
        "            'extImportPrograms': [],\n",
        "            'extImportProgramsExpanded': [],\n",
        "            'aggregation': 'Break Out CSC'},\n",
        "            'provisionCodes': {'rateProvisionCodes': [],\n",
        "            'rateProvisionCodesExpanded': [],\n",
        "            'aggregation': 'Break Out RPCODE',\n",
        "            'provisionCodesSelectType': 'all',\n",
        "            'rateProvisionGroups': {'systemGroups': []}},\n",
        "            'districts': {'districts': [],\n",
        "            'districtsExpanded': [],\n",
        "            'districtGroups': {'userGroups': []},\n",
        "            'aggregation': 'Break Out District',\n",
        "            'districtsSelectType': 'all'}}},\n",
        "        'sortingAndDataFormat': {'DataSort': {'sortOrder': [{'sortData': 'Countries',\n",
        "            'orderBy': 'asc',\n",
        "            'year': '0'}],\n",
        "            'columnOrder': ['COUNTRY',\n",
        "            'DISTRICT',\n",
        "            'EXTENDED-SPECIAL-IMPORT-PROGRAM',\n",
        "            'RATE-PROVISION-CODE',\n",
        "            'HTS2'],\n",
        "            'sortYear': None},\n",
        "            'reportCustomizations': {'totalRecords': '20000',\n",
        "            'exportCombineTables': False,\n",
        "            'reportsGrid': True,\n",
        "            'removeDuplicateValues': True,\n",
        "            'suppressZeroValues': False,\n",
        "            'displayCommodityList': False,\n",
        "            'reportsFontSize': 'm',\n",
        "            'exportRawData': True}},\n",
        "        'unitConversion': '0',\n",
        "        'manualConversions': []\n",
        "    }\n"
      ],
      "metadata": {
        "id": "rtyCU5UOwh-0"
      },
      "execution_count": null,
      "outputs": []
    },
    {
      "cell_type": "code",
      "source": [
        "def update_query_for_commodity_and_date(query_template, commodity_code, commodity_name, start_year, end_year):\n",
        "    # Create a copy of the template\n",
        "    query = query_template.copy()\n",
        "\n",
        "    # Update commodity information\n",
        "    query['searchOptions']['commodities']['commodities'] = [commodity_code]\n",
        "    query['searchOptions']['commodities']['commoditiesExpanded'] = [\n",
        "        {'name': commodity_name, 'value': commodity_code, 'hasChildren': None}\n",
        "    ]\n",
        "    query['searchOptions']['commodities']['commoditiesManual'] = commodity_code\n",
        "\n",
        "    # Update date range\n",
        "    query['searchOptions']['componentSettings']['startDate'] = f'01/{start_year}'\n",
        "    query['searchOptions']['componentSettings']['endDate'] = f'01/{end_year}'\n",
        "\n",
        "    return query\n",
        "\n",
        "def submit_api_query(query):\n",
        "    headers = {\n",
        "    \"Content-Type\": \"application/json; charset=utf-8\",\n",
        "    \"Authorization\": \"Bearer \" + API_TOKEN\n",
        "    }\n",
        "    requests.packages.urllib3.disable_warnings()\n",
        "\n",
        "    try:\n",
        "        response = requests.post(API_ENDPOINT, json=query, headers=headers,verify= False)\n",
        "        response.raise_for_status()  # Raise exception for HTTP errors\n",
        "        return response.json()\n",
        "    except requests.exceptions.RequestException as e:\n",
        "        print(f\"API request failed: {e}\")\n",
        "        return None"
      ],
      "metadata": {
        "id": "4NqtPlOY39HJ"
      },
      "execution_count": null,
      "outputs": []
    },
    {
      "cell_type": "code",
      "source": [
        "query_template= get_query_template()"
      ],
      "metadata": {
        "id": "ojTHzdem1K8S"
      },
      "execution_count": null,
      "outputs": []
    },
    {
      "cell_type": "code",
      "source": [
        "\n",
        "\n",
        "def parse_skipped_log(log_path):\n",
        "    \"\"\"Parses skipped_files_log.txt and extracts tuples of (commodity_code, start_year, end_year)\"\"\"\n",
        "    retry_jobs = []\n",
        "\n",
        "    with open(log_path, \"r\") as f:\n",
        "        for line in f:\n",
        "            match = re.search(r\"(\\d{2})_(\\d{4})_(\\d{4})\", line)\n",
        "            if match:\n",
        "                code, start, end = match.groups()\n",
        "                retry_jobs.append((code, int(start), int(end)))\n",
        "    return retry_jobs\n"
      ],
      "metadata": {
        "id": "FDYbyu3gj52Z"
      },
      "execution_count": null,
      "outputs": []
    },
    {
      "cell_type": "code",
      "source": [
        "def retry_failed_queries(log_path, commodities_df, query_template):\n",
        "    retry_jobs = parse_skipped_log(log_path)\n",
        "    print(f\"Retrying {len(retry_jobs)} failed jobs...\")\n",
        "\n",
        "    for code, start_year, end_year in tqdm(retry_jobs, desc=\"Retrying failed jobs\"):\n",
        "        try:\n",
        "            name_row = commodities_df[commodities_df['code'] == code]\n",
        "            if name_row.empty:\n",
        "                print(f\"❌ No commodity name found for code: {code}\")\n",
        "                continue\n",
        "\n",
        "            name = name_row.iloc[0]['name']\n",
        "            query = update_query_for_commodity_and_date(query_template, code, name, start_year, end_year)\n",
        "            print(f\"Retrying {code} for {start_year}-{end_year}...\")\n",
        "\n",
        "            result = submit_api_query(query)\n",
        "            if result:\n",
        "                filename = f\"{OUTPUT_FOLDER}/CustomsValue_2020_2025/CustomsValue_commodity_{code}_{start_year}_{end_year}.json\"\n",
        "                with open(filename, 'w') as f:\n",
        "                    json.dump(result, f, indent=2)\n",
        "                print(f\"✅ Saved retried result to {filename}\")\n",
        "\n",
        "                # NEW: append to correct yearly CSV\n",
        "                append_json_to_csv(filename, csv_folder=f\"{OUTPUT_FOLDER}/csv_output\")\n",
        "\n",
        "            time.sleep(5)\n",
        "\n",
        "        except Exception as e:\n",
        "            print(f\"🚫 Error retrying {code}-{start_year}-{end_year}: {e}\")\n"
      ],
      "metadata": {
        "id": "4QfmyX4WvGh4"
      },
      "execution_count": null,
      "outputs": []
    },
    {
      "cell_type": "code",
      "source": [
        "\n",
        "# Retry skipped files\n",
        "LOG_PATH = os.path.join(OUTPUT_FOLDER, \"skipped_files_log.txt\")\n",
        "if os.path.exists(LOG_PATH):\n",
        "  retry_failed_queries(LOG_PATH, commodities_df, query_template)\n",
        "else:\n",
        "  print(\"✅ No skipped files log found, skipping retry step.\")\n"
      ],
      "metadata": {
        "colab": {
          "base_uri": "https://localhost:8080/"
        },
        "id": "hQJpUZS0vKAX",
        "outputId": "47d0fb25-561d-48fd-e33c-80e1bc2e45f8"
      },
      "execution_count": null,
      "outputs": [
        {
          "output_type": "stream",
          "name": "stdout",
          "text": [
            "Retrying 24 failed jobs...\n"
          ]
        },
        {
          "output_type": "stream",
          "name": "stderr",
          "text": [
            "\rRetrying failed jobs:   0%|          | 0/24 [00:00<?, ?it/s]"
          ]
        },
        {
          "output_type": "stream",
          "name": "stdout",
          "text": [
            "Retrying 39 for 2020-2021...\n",
            "✅ Saved retried result to /content/drive/MyDrive/DatawebUSITC/CustomsValue_2020_2025/CustomsValue_commodity_39_2020_2021.json\n",
            "❌ Error appending data from /content/drive/MyDrive/DatawebUSITC/CustomsValue_2020_2025/CustomsValue_commodity_39_2020_2021.json: 'NoneType' object has no attribute 'get'\n"
          ]
        },
        {
          "output_type": "stream",
          "name": "stderr",
          "text": [
            "\rRetrying failed jobs:   4%|▍         | 1/24 [00:07<03:02,  7.91s/it]"
          ]
        },
        {
          "output_type": "stream",
          "name": "stdout",
          "text": [
            "Retrying 39 for 2021-2022...\n",
            "✅ Saved retried result to /content/drive/MyDrive/DatawebUSITC/CustomsValue_2020_2025/CustomsValue_commodity_39_2021_2022.json\n",
            "❌ Error appending data from /content/drive/MyDrive/DatawebUSITC/CustomsValue_2020_2025/CustomsValue_commodity_39_2021_2022.json: 'NoneType' object has no attribute 'get'\n"
          ]
        },
        {
          "output_type": "stream",
          "name": "stderr",
          "text": [
            "\rRetrying failed jobs:   8%|▊         | 2/24 [00:16<02:58,  8.10s/it]"
          ]
        },
        {
          "output_type": "stream",
          "name": "stdout",
          "text": [
            "Retrying 39 for 2022-2023...\n",
            "✅ Saved retried result to /content/drive/MyDrive/DatawebUSITC/CustomsValue_2020_2025/CustomsValue_commodity_39_2022_2023.json\n",
            "❌ Error appending data from /content/drive/MyDrive/DatawebUSITC/CustomsValue_2020_2025/CustomsValue_commodity_39_2022_2023.json: 'NoneType' object has no attribute 'get'\n"
          ]
        },
        {
          "output_type": "stream",
          "name": "stderr",
          "text": [
            "\rRetrying failed jobs:  12%|█▎        | 3/24 [00:23<02:45,  7.89s/it]"
          ]
        },
        {
          "output_type": "stream",
          "name": "stdout",
          "text": [
            "Retrying 39 for 2023-2024...\n",
            "✅ Saved retried result to /content/drive/MyDrive/DatawebUSITC/CustomsValue_2020_2025/CustomsValue_commodity_39_2023_2024.json\n",
            "❌ Error appending data from /content/drive/MyDrive/DatawebUSITC/CustomsValue_2020_2025/CustomsValue_commodity_39_2023_2024.json: 'NoneType' object has no attribute 'get'\n"
          ]
        },
        {
          "output_type": "stream",
          "name": "stderr",
          "text": [
            "\rRetrying failed jobs:  17%|█▋        | 4/24 [00:31<02:39,  7.98s/it]"
          ]
        },
        {
          "output_type": "stream",
          "name": "stdout",
          "text": [
            "Retrying 39 for 2024-2025...\n",
            "✅ Saved retried result to /content/drive/MyDrive/DatawebUSITC/CustomsValue_2020_2025/CustomsValue_commodity_39_2024_2025.json\n",
            "❌ Error appending data from /content/drive/MyDrive/DatawebUSITC/CustomsValue_2020_2025/CustomsValue_commodity_39_2024_2025.json: 'NoneType' object has no attribute 'get'\n"
          ]
        },
        {
          "output_type": "stream",
          "name": "stderr",
          "text": [
            "\rRetrying failed jobs:  21%|██        | 5/24 [00:39<02:27,  7.76s/it]"
          ]
        },
        {
          "output_type": "stream",
          "name": "stdout",
          "text": [
            "Retrying 84 for 2020-2021...\n",
            "✅ Saved retried result to /content/drive/MyDrive/DatawebUSITC/CustomsValue_2020_2025/CustomsValue_commodity_84_2020_2021.json\n",
            "❌ Error appending data from /content/drive/MyDrive/DatawebUSITC/CustomsValue_2020_2025/CustomsValue_commodity_84_2020_2021.json: 'NoneType' object has no attribute 'get'\n"
          ]
        },
        {
          "output_type": "stream",
          "name": "stderr",
          "text": [
            "\rRetrying failed jobs:  25%|██▌       | 6/24 [00:49<02:34,  8.57s/it]"
          ]
        },
        {
          "output_type": "stream",
          "name": "stdout",
          "text": [
            "Retrying 84 for 2021-2022...\n",
            "✅ Saved retried result to /content/drive/MyDrive/DatawebUSITC/CustomsValue_2020_2025/CustomsValue_commodity_84_2021_2022.json\n",
            "❌ Error appending data from /content/drive/MyDrive/DatawebUSITC/CustomsValue_2020_2025/CustomsValue_commodity_84_2021_2022.json: 'NoneType' object has no attribute 'get'\n"
          ]
        },
        {
          "output_type": "stream",
          "name": "stderr",
          "text": [
            "\rRetrying failed jobs:  29%|██▉       | 7/24 [00:59<02:35,  9.14s/it]"
          ]
        },
        {
          "output_type": "stream",
          "name": "stdout",
          "text": [
            "Retrying 84 for 2022-2023...\n",
            "✅ Saved retried result to /content/drive/MyDrive/DatawebUSITC/CustomsValue_2020_2025/CustomsValue_commodity_84_2022_2023.json\n",
            "❌ Error appending data from /content/drive/MyDrive/DatawebUSITC/CustomsValue_2020_2025/CustomsValue_commodity_84_2022_2023.json: 'NoneType' object has no attribute 'get'\n"
          ]
        },
        {
          "output_type": "stream",
          "name": "stderr",
          "text": [
            "\rRetrying failed jobs:  33%|███▎      | 8/24 [01:10<02:32,  9.51s/it]"
          ]
        },
        {
          "output_type": "stream",
          "name": "stdout",
          "text": [
            "Retrying 84 for 2023-2024...\n",
            "✅ Saved retried result to /content/drive/MyDrive/DatawebUSITC/CustomsValue_2020_2025/CustomsValue_commodity_84_2023_2024.json\n",
            "❌ Error appending data from /content/drive/MyDrive/DatawebUSITC/CustomsValue_2020_2025/CustomsValue_commodity_84_2023_2024.json: 'NoneType' object has no attribute 'get'\n"
          ]
        },
        {
          "output_type": "stream",
          "name": "stderr",
          "text": [
            "\rRetrying failed jobs:  38%|███▊      | 9/24 [01:20<02:26,  9.79s/it]"
          ]
        },
        {
          "output_type": "stream",
          "name": "stdout",
          "text": [
            "Retrying 84 for 2024-2025...\n",
            "✅ Saved retried result to /content/drive/MyDrive/DatawebUSITC/CustomsValue_2020_2025/CustomsValue_commodity_84_2024_2025.json\n",
            "❌ Error appending data from /content/drive/MyDrive/DatawebUSITC/CustomsValue_2020_2025/CustomsValue_commodity_84_2024_2025.json: 'NoneType' object has no attribute 'get'\n"
          ]
        },
        {
          "output_type": "stream",
          "name": "stderr",
          "text": [
            "\rRetrying failed jobs:  42%|████▏     | 10/24 [01:29<02:12,  9.49s/it]"
          ]
        },
        {
          "output_type": "stream",
          "name": "stdout",
          "text": [
            "Retrying 85 for 2020-2021...\n",
            "✅ Saved retried result to /content/drive/MyDrive/DatawebUSITC/CustomsValue_2020_2025/CustomsValue_commodity_85_2020_2021.json\n",
            "❌ Error appending data from /content/drive/MyDrive/DatawebUSITC/CustomsValue_2020_2025/CustomsValue_commodity_85_2020_2021.json: 'NoneType' object has no attribute 'get'\n"
          ]
        },
        {
          "output_type": "stream",
          "name": "stderr",
          "text": [
            "\rRetrying failed jobs:  46%|████▌     | 11/24 [01:38<02:02,  9.39s/it]"
          ]
        },
        {
          "output_type": "stream",
          "name": "stdout",
          "text": [
            "Retrying 85 for 2021-2022...\n",
            "✅ Saved retried result to /content/drive/MyDrive/DatawebUSITC/CustomsValue_2020_2025/CustomsValue_commodity_85_2021_2022.json\n",
            "❌ Error appending data from /content/drive/MyDrive/DatawebUSITC/CustomsValue_2020_2025/CustomsValue_commodity_85_2021_2022.json: 'NoneType' object has no attribute 'get'\n"
          ]
        },
        {
          "output_type": "stream",
          "name": "stderr",
          "text": [
            "\rRetrying failed jobs:  50%|█████     | 12/24 [01:47<01:53,  9.44s/it]"
          ]
        },
        {
          "output_type": "stream",
          "name": "stdout",
          "text": [
            "Retrying 85 for 2022-2023...\n",
            "✅ Saved retried result to /content/drive/MyDrive/DatawebUSITC/CustomsValue_2020_2025/CustomsValue_commodity_85_2022_2023.json\n",
            "❌ Error appending data from /content/drive/MyDrive/DatawebUSITC/CustomsValue_2020_2025/CustomsValue_commodity_85_2022_2023.json: 'NoneType' object has no attribute 'get'\n"
          ]
        },
        {
          "output_type": "stream",
          "name": "stderr",
          "text": [
            "\rRetrying failed jobs:  54%|█████▍    | 13/24 [01:57<01:43,  9.44s/it]"
          ]
        },
        {
          "output_type": "stream",
          "name": "stdout",
          "text": [
            "Retrying 85 for 2023-2024...\n",
            "✅ Saved retried result to /content/drive/MyDrive/DatawebUSITC/CustomsValue_2020_2025/CustomsValue_commodity_85_2023_2024.json\n",
            "❌ Error appending data from /content/drive/MyDrive/DatawebUSITC/CustomsValue_2020_2025/CustomsValue_commodity_85_2023_2024.json: 'NoneType' object has no attribute 'get'\n"
          ]
        },
        {
          "output_type": "stream",
          "name": "stderr",
          "text": [
            "\rRetrying failed jobs:  58%|█████▊    | 14/24 [02:06<01:34,  9.44s/it]"
          ]
        },
        {
          "output_type": "stream",
          "name": "stdout",
          "text": [
            "Retrying 85 for 2024-2025...\n",
            "✅ Saved retried result to /content/drive/MyDrive/DatawebUSITC/CustomsValue_2020_2025/CustomsValue_commodity_85_2024_2025.json\n",
            "❌ Error appending data from /content/drive/MyDrive/DatawebUSITC/CustomsValue_2020_2025/CustomsValue_commodity_85_2024_2025.json: 'NoneType' object has no attribute 'get'\n"
          ]
        },
        {
          "output_type": "stream",
          "name": "stderr",
          "text": [
            "\rRetrying failed jobs:  62%|██████▎   | 15/24 [02:15<01:21,  9.06s/it]"
          ]
        },
        {
          "output_type": "stream",
          "name": "stdout",
          "text": [
            "Retrying 90 for 2020-2021...\n",
            "✅ Saved retried result to /content/drive/MyDrive/DatawebUSITC/CustomsValue_2020_2025/CustomsValue_commodity_90_2020_2021.json\n",
            "❌ Error appending data from /content/drive/MyDrive/DatawebUSITC/CustomsValue_2020_2025/CustomsValue_commodity_90_2020_2021.json: 'NoneType' object has no attribute 'get'\n"
          ]
        },
        {
          "output_type": "stream",
          "name": "stderr",
          "text": [
            "\rRetrying failed jobs:  67%|██████▋   | 16/24 [02:23<01:10,  8.76s/it]"
          ]
        },
        {
          "output_type": "stream",
          "name": "stdout",
          "text": [
            "Retrying 90 for 2021-2022...\n",
            "✅ Saved retried result to /content/drive/MyDrive/DatawebUSITC/CustomsValue_2020_2025/CustomsValue_commodity_90_2021_2022.json\n",
            "❌ Error appending data from /content/drive/MyDrive/DatawebUSITC/CustomsValue_2020_2025/CustomsValue_commodity_90_2021_2022.json: 'NoneType' object has no attribute 'get'\n"
          ]
        },
        {
          "output_type": "stream",
          "name": "stderr",
          "text": [
            "\rRetrying failed jobs:  71%|███████   | 17/24 [02:31<00:59,  8.52s/it]"
          ]
        },
        {
          "output_type": "stream",
          "name": "stdout",
          "text": [
            "Retrying 90 for 2022-2023...\n",
            "✅ Saved retried result to /content/drive/MyDrive/DatawebUSITC/CustomsValue_2020_2025/CustomsValue_commodity_90_2022_2023.json\n",
            "❌ Error appending data from /content/drive/MyDrive/DatawebUSITC/CustomsValue_2020_2025/CustomsValue_commodity_90_2022_2023.json: 'NoneType' object has no attribute 'get'\n"
          ]
        },
        {
          "output_type": "stream",
          "name": "stderr",
          "text": [
            "\rRetrying failed jobs:  75%|███████▌  | 18/24 [02:38<00:49,  8.32s/it]"
          ]
        },
        {
          "output_type": "stream",
          "name": "stdout",
          "text": [
            "Retrying 90 for 2023-2024...\n",
            "✅ Saved retried result to /content/drive/MyDrive/DatawebUSITC/CustomsValue_2020_2025/CustomsValue_commodity_90_2023_2024.json\n",
            "❌ Error appending data from /content/drive/MyDrive/DatawebUSITC/CustomsValue_2020_2025/CustomsValue_commodity_90_2023_2024.json: 'NoneType' object has no attribute 'get'\n"
          ]
        },
        {
          "output_type": "stream",
          "name": "stderr",
          "text": [
            "\rRetrying failed jobs:  79%|███████▉  | 19/24 [02:46<00:41,  8.25s/it]"
          ]
        },
        {
          "output_type": "stream",
          "name": "stdout",
          "text": [
            "Retrying 94 for 2020-2021...\n",
            "✅ Saved retried result to /content/drive/MyDrive/DatawebUSITC/CustomsValue_2020_2025/CustomsValue_commodity_94_2020_2021.json\n",
            "❌ Error appending data from /content/drive/MyDrive/DatawebUSITC/CustomsValue_2020_2025/CustomsValue_commodity_94_2020_2021.json: 'NoneType' object has no attribute 'get'\n"
          ]
        },
        {
          "output_type": "stream",
          "name": "stderr",
          "text": [
            "\rRetrying failed jobs:  83%|████████▎ | 20/24 [02:54<00:32,  8.08s/it]"
          ]
        },
        {
          "output_type": "stream",
          "name": "stdout",
          "text": [
            "Retrying 94 for 2021-2022...\n",
            "✅ Saved retried result to /content/drive/MyDrive/DatawebUSITC/CustomsValue_2020_2025/CustomsValue_commodity_94_2021_2022.json\n",
            "❌ Error appending data from /content/drive/MyDrive/DatawebUSITC/CustomsValue_2020_2025/CustomsValue_commodity_94_2021_2022.json: 'NoneType' object has no attribute 'get'\n"
          ]
        },
        {
          "output_type": "stream",
          "name": "stderr",
          "text": [
            "\rRetrying failed jobs:  88%|████████▊ | 21/24 [03:02<00:23,  7.98s/it]"
          ]
        },
        {
          "output_type": "stream",
          "name": "stdout",
          "text": [
            "Retrying 94 for 2022-2023...\n",
            "✅ Saved retried result to /content/drive/MyDrive/DatawebUSITC/CustomsValue_2020_2025/CustomsValue_commodity_94_2022_2023.json\n",
            "❌ Error appending data from /content/drive/MyDrive/DatawebUSITC/CustomsValue_2020_2025/CustomsValue_commodity_94_2022_2023.json: 'NoneType' object has no attribute 'get'\n"
          ]
        },
        {
          "output_type": "stream",
          "name": "stderr",
          "text": [
            "\rRetrying failed jobs:  92%|█████████▏| 22/24 [03:10<00:15,  7.93s/it]"
          ]
        },
        {
          "output_type": "stream",
          "name": "stdout",
          "text": [
            "Retrying 94 for 2023-2024...\n",
            "✅ Saved retried result to /content/drive/MyDrive/DatawebUSITC/CustomsValue_2020_2025/CustomsValue_commodity_94_2023_2024.json\n",
            "❌ Error appending data from /content/drive/MyDrive/DatawebUSITC/CustomsValue_2020_2025/CustomsValue_commodity_94_2023_2024.json: 'NoneType' object has no attribute 'get'\n"
          ]
        },
        {
          "output_type": "stream",
          "name": "stderr",
          "text": [
            "\rRetrying failed jobs:  96%|█████████▌| 23/24 [03:18<00:07,  7.93s/it]"
          ]
        },
        {
          "output_type": "stream",
          "name": "stdout",
          "text": [
            "Retrying 98 for 2023-2024...\n",
            "✅ Saved retried result to /content/drive/MyDrive/DatawebUSITC/CustomsValue_2020_2025/CustomsValue_commodity_98_2023_2024.json\n",
            "❌ Error appending data from /content/drive/MyDrive/DatawebUSITC/CustomsValue_2020_2025/CustomsValue_commodity_98_2023_2024.json: 'NoneType' object has no attribute 'get'\n"
          ]
        },
        {
          "output_type": "stream",
          "name": "stderr",
          "text": [
            "Retrying failed jobs: 100%|██████████| 24/24 [03:25<00:00,  8.57s/it]\n"
          ]
        }
      ]
    },
    {
      "cell_type": "code",
      "source": [
        "def append_json_to_csv(json_file, csv_folder=f\"{OUTPUT_FOLDER}/csv_output\"):\n",
        "    try:\n",
        "        with open(json_file, \"r\") as f:\n",
        "            data = json.load(f)\n",
        "\n",
        "        tables = data.get(\"dto\", {}).get(\"tables\", [])\n",
        "        if not tables:\n",
        "            print(f\"⚠️ No tables in {json_file}\")\n",
        "            return\n",
        "\n",
        "        row_groups = tables[0].get(\"row_groups\", [])\n",
        "        if not row_groups or not row_groups[0].get(\"rowsNew\"):\n",
        "            print(f\"⚠️ No row data in {json_file}\")\n",
        "            return\n",
        "\n",
        "        rows = row_groups[0][\"rowsNew\"]\n",
        "        columns = [\n",
        "            \"Country\", \"Year\", \"District\", \"Program\", \"RPC Description\", \"HTS Number\",\n",
        "            \"January\", \"February\", \"March\", \"April\", \"May\", \"June\",\n",
        "            \"July\", \"August\", \"September\", \"October\", \"November\", \"December\"\n",
        "        ]\n",
        "\n",
        "        records = []\n",
        "        for row in rows:\n",
        "            values = [entry[\"value\"] for entry in row[\"rowEntries\"]]\n",
        "            if len(values) == len(columns):\n",
        "                records.append(values)\n",
        "\n",
        "        if records:\n",
        "            df = pd.DataFrame(records, columns=columns)\n",
        "            for year in df[\"Year\"].unique():\n",
        "                year_df = df[df[\"Year\"] == year]\n",
        "                csv_file = os.path.join(csv_folder, f\"CustomsValue_{year}.csv\")\n",
        "                if os.path.exists(csv_file):\n",
        "                    existing_df = pd.read_csv(csv_file)\n",
        "                    combined_df = pd.concat([existing_df, year_df], ignore_index=True)\n",
        "                else:\n",
        "                    combined_df = year_df\n",
        "                combined_df.to_csv(csv_file, index=False)\n",
        "                print(f\"✅ Appended data to {csv_file}\")\n",
        "        else:\n",
        "            print(f\"⚠️ No valid rows to append in {json_file}\")\n",
        "    except Exception as e:\n",
        "        print(f\"❌ Error appending data from {json_file}: {e}\")\n"
      ],
      "metadata": {
        "id": "RW9oXJUtvP0t"
      },
      "execution_count": null,
      "outputs": []
    },
    {
      "cell_type": "code",
      "source": [],
      "metadata": {
        "id": "78Z-_n_oGfQE"
      },
      "execution_count": null,
      "outputs": []
    }
  ]
}