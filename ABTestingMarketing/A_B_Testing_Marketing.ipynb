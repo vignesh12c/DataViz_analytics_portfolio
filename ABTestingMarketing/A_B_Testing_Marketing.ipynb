{
  "metadata": {
    "kernelspec": {
      "language": "python",
      "display_name": "Python 3",
      "name": "python3"
    },
    "language_info": {
      "name": "python",
      "version": "3.10.14",
      "mimetype": "text/x-python",
      "codemirror_mode": {
        "name": "ipython",
        "version": 3
      },
      "pygments_lexer": "ipython3",
      "nbconvert_exporter": "python",
      "file_extension": ".py"
    },
    "kaggle": {
      "accelerator": "none",
      "dataSources": [
        {
          "sourceId": 2724653,
          "sourceType": "datasetVersion",
          "datasetId": 1660669
        }
      ],
      "dockerImageVersionId": 30775,
      "isInternetEnabled": true,
      "language": "python",
      "sourceType": "notebook",
      "isGpuEnabled": false
    },
    "colab": {
      "provenance": [],
      "include_colab_link": true
    }
  },
  "nbformat_minor": 0,
  "nbformat": 4,
  "cells": [
    {
      "cell_type": "markdown",
      "metadata": {
        "id": "view-in-github",
        "colab_type": "text"
      },
      "source": [
        "<a href=\"https://colab.research.google.com/github/vignesh12c/DataViz_analytics_portfolio/blob/main/ABTestingMarketing/A_B_Testing_Marketing.ipynb\" target=\"_parent\"><img src=\"https://colab.research.google.com/assets/colab-badge.svg\" alt=\"Open In Colab\"/></a>"
      ]
    },
    {
      "source": [
        "# IMPORTANT: RUN THIS CELL IN ORDER TO IMPORT YOUR KAGGLE DATA SOURCES,\n",
        "# THEN FEEL FREE TO DELETE THIS CELL.\n",
        "# NOTE: THIS NOTEBOOK ENVIRONMENT DIFFERS FROM KAGGLE'S PYTHON\n",
        "# ENVIRONMENT SO THERE MAY BE MISSING LIBRARIES USED BY YOUR\n",
        "# NOTEBOOK.\n",
        "import kagglehub\n",
        "faviovaz_marketing_ab_testing_path = kagglehub.dataset_download('faviovaz/marketing-ab-testing')\n",
        "\n",
        "print('Data source import complete.')\n"
      ],
      "metadata": {
        "id": "PB-QzkP6gbEN"
      },
      "cell_type": "code",
      "outputs": [],
      "execution_count": null
    },
    {
      "cell_type": "markdown",
      "source": [
        "**Marketing A/B testing dataset**\n",
        "\n",
        "Marketing companies want to run successful campaigns, but the market is complex and several options can work. So normally they run A/B tests, that is a randomized experimentation process wherein two or more versions of a variable (web page, page element, banner, etc.) are shown to different segments of people at the same time to determine which version leaves the maximum impact and drive business metrics.\n",
        "\n",
        "The companies are interested in answering two questions:\n",
        "\n",
        "* Would the campaign be successful?\n",
        "\n",
        "* If the campaign was successful, how much of that success could be attributed to the ads?\n",
        "\n",
        "With the second question in mind, we normally do an A/B test. The majority of the people will be exposed to ads (the experimental group). And a small portion of people (the control group) would instead see a Public Service Announcement (PSA) (or nothing) in the exact size and place the ad would normally be.\n",
        "\n",
        "The idea of the dataset is to analyze the groups, find if the ads were successful, how much the company can make from the ads, and if the difference between the groups is statistically significant.\n",
        "\n",
        "Data dictionary:\n",
        "\n",
        "* Index: Row index\n",
        "* user id: User ID (unique)\n",
        "* test group: If \"ad\" the person saw the advertisement, if \"psa\" they only saw the public service announcement\n",
        "* converted: If a person bought the product then True, else is False\n",
        "* total ads: Amount of ads seen by person\n",
        "* most ads day: Day that the person saw the biggest amount of ads\n",
        "* most ads hour: Hour of day that the person saw the biggest amount of ads\n"
      ],
      "metadata": {
        "id": "gcOGvxcQgbER"
      }
    },
    {
      "cell_type": "markdown",
      "source": [
        "# EDA"
      ],
      "metadata": {
        "id": "ik2gquj0gbET"
      }
    },
    {
      "cell_type": "code",
      "source": [
        "import pandas as pd\n",
        "import numpy as np\n",
        "import scipy.stats as stats"
      ],
      "metadata": {
        "execution": {
          "iopub.status.busy": "2024-09-25T05:36:30.526904Z",
          "iopub.execute_input": "2024-09-25T05:36:30.527351Z",
          "iopub.status.idle": "2024-09-25T05:36:32.670069Z",
          "shell.execute_reply.started": "2024-09-25T05:36:30.527307Z",
          "shell.execute_reply": "2024-09-25T05:36:32.668969Z"
        },
        "trusted": true,
        "id": "kZMcZmn4gbEV"
      },
      "execution_count": null,
      "outputs": []
    },
    {
      "cell_type": "code",
      "source": [
        "import warnings\n",
        "warnings.filterwarnings('ignore')"
      ],
      "metadata": {
        "execution": {
          "iopub.status.busy": "2024-09-25T05:37:51.896987Z",
          "iopub.execute_input": "2024-09-25T05:37:51.897439Z",
          "iopub.status.idle": "2024-09-25T05:37:51.902653Z",
          "shell.execute_reply.started": "2024-09-25T05:37:51.897399Z",
          "shell.execute_reply": "2024-09-25T05:37:51.901305Z"
        },
        "trusted": true,
        "id": "zopBIqnYgbEW"
      },
      "execution_count": null,
      "outputs": []
    },
    {
      "cell_type": "code",
      "source": [
        "df = pd.read_csv('/kaggle/input/marketing-ab-testing/marketing_AB.csv')\n",
        "df"
      ],
      "metadata": {
        "execution": {
          "iopub.status.busy": "2024-09-25T05:37:54.424219Z",
          "iopub.execute_input": "2024-09-25T05:37:54.424662Z",
          "iopub.status.idle": "2024-09-25T05:37:54.802429Z",
          "shell.execute_reply.started": "2024-09-25T05:37:54.424619Z",
          "shell.execute_reply": "2024-09-25T05:37:54.801196Z"
        },
        "trusted": true,
        "id": "XCyMbiy7gbEW"
      },
      "execution_count": null,
      "outputs": []
    },
    {
      "cell_type": "code",
      "source": [
        "df.info()"
      ],
      "metadata": {
        "execution": {
          "iopub.status.busy": "2024-09-25T05:36:33.432679Z",
          "iopub.execute_input": "2024-09-25T05:36:33.433595Z",
          "iopub.status.idle": "2024-09-25T05:36:33.573257Z",
          "shell.execute_reply.started": "2024-09-25T05:36:33.433538Z",
          "shell.execute_reply": "2024-09-25T05:36:33.572119Z"
        },
        "trusted": true,
        "id": "_O9Br9VygbEY"
      },
      "execution_count": null,
      "outputs": []
    },
    {
      "cell_type": "code",
      "source": [
        "duplicates = df[df.duplicated('user id', keep=False)]\n",
        "duplicates"
      ],
      "metadata": {
        "execution": {
          "iopub.status.busy": "2024-09-25T05:36:33.575082Z",
          "iopub.execute_input": "2024-09-25T05:36:33.576017Z",
          "iopub.status.idle": "2024-09-25T05:36:33.637491Z",
          "shell.execute_reply.started": "2024-09-25T05:36:33.575938Z",
          "shell.execute_reply": "2024-09-25T05:36:33.636308Z"
        },
        "trusted": true,
        "id": "Jo_L3QavgbEY"
      },
      "execution_count": null,
      "outputs": []
    },
    {
      "cell_type": "code",
      "source": [
        "# Calculate Q1 (25th percentile) and Q3 (75th percentile)\n",
        "numeric_cols = df.select_dtypes(include=['number'])\n",
        "Q1 = numeric_cols.quantile(0.25)\n",
        "Q3 = numeric_cols.quantile(0.75)\n",
        "\n",
        "# Calculate the Interquartile Range (IQR)\n",
        "IQR = Q3 - Q1\n",
        "\n",
        "# Define outliers as points outside 1.5 * IQR range\n",
        "outliers = ((numeric_cols < (Q1 - 1.5 * IQR)) | (numeric_cols > (Q3 + 1.5 * IQR)))\n",
        "\n",
        "# Print outliers for each column\n",
        "outliers_count = outliers.sum()\n",
        "print(\"Number of outliers in each column:\")\n",
        "print(outliers_count)\n",
        "\n",
        "# Optionally, filter the outliers from the DataFrame\n",
        "df_outliers = numeric_cols[outliers.any(axis=1)]\n",
        "print(\"Data points considered as outliers:\")\n",
        "print(df_outliers)"
      ],
      "metadata": {
        "execution": {
          "iopub.status.busy": "2024-09-25T05:36:33.639413Z",
          "iopub.execute_input": "2024-09-25T05:36:33.640237Z",
          "iopub.status.idle": "2024-09-25T05:36:33.764872Z",
          "shell.execute_reply.started": "2024-09-25T05:36:33.640184Z",
          "shell.execute_reply": "2024-09-25T05:36:33.76367Z"
        },
        "trusted": true,
        "id": "sSy4kM9pgbEZ"
      },
      "execution_count": null,
      "outputs": []
    },
    {
      "cell_type": "code",
      "source": [
        "df.isna().sum()"
      ],
      "metadata": {
        "execution": {
          "iopub.status.busy": "2024-09-25T05:36:33.766406Z",
          "iopub.execute_input": "2024-09-25T05:36:33.767414Z",
          "iopub.status.idle": "2024-09-25T05:36:33.879293Z",
          "shell.execute_reply.started": "2024-09-25T05:36:33.76736Z",
          "shell.execute_reply": "2024-09-25T05:36:33.878144Z"
        },
        "trusted": true,
        "id": "VXMLJHepgbEa"
      },
      "execution_count": null,
      "outputs": []
    },
    {
      "cell_type": "code",
      "source": [
        "cont_var = ['total ads','most ads hour']\n",
        "cat_var = ['test group','converted','most ads day']"
      ],
      "metadata": {
        "execution": {
          "iopub.status.busy": "2024-09-25T05:36:33.881217Z",
          "iopub.execute_input": "2024-09-25T05:36:33.881922Z",
          "iopub.status.idle": "2024-09-25T05:36:33.886762Z",
          "shell.execute_reply.started": "2024-09-25T05:36:33.88187Z",
          "shell.execute_reply": "2024-09-25T05:36:33.885557Z"
        },
        "trusted": true,
        "id": "M-UbeEZmgbEa"
      },
      "execution_count": null,
      "outputs": []
    },
    {
      "cell_type": "markdown",
      "source": [
        "**Frequency Table and Mode for Categorical Variables**\n",
        "\n",
        "Frequency tables organize and display the **counts** and **percentages** of **different categories** in a dataset, offering a snapshot of categorical data distribution. Meanwhile, the mode pinpoints the **most frequently** occurring category, serving as a quick reference for the dominant aspect of the data. Together, they provide a concise yet insightful analysis, aiding in identifying patterns and making informed interpretations of categorical variables."
      ],
      "metadata": {
        "id": "GEnHf95BgbEb"
      }
    },
    {
      "cell_type": "code",
      "source": [
        "def frequency_table(variable):\n",
        "\n",
        "    # Get unique elements and their counts\n",
        "    unique_elements, counts = np.unique(variable.dropna(), return_counts=True)\n",
        "\n",
        "    # Calculate percentages\n",
        "    percentages = (counts / len(variable)) * 100\n",
        "\n",
        "    # Create a dictionary to store the value counts and percentages\n",
        "    value_counts_and_percentages = zip(unique_elements, counts, percentages)\n",
        "\n",
        "    # Print the value counts and percentages\n",
        "    for i, j, k in value_counts_and_percentages:\n",
        "        print(f\"{i}: Count: {j}, Percentage: {k:.2f}%\")\n",
        "    return\n",
        "\n",
        "\n",
        "# Calculate frequency table and mode for each categorical variable\n",
        "for var in cat_var:\n",
        "    print (f\"frequency table for {var}\")\n",
        "    frequency_table(df[var])\n",
        "    print(\"Mode =\", df[var].mode()[0])\n",
        "    print (\"#\"*50)"
      ],
      "metadata": {
        "execution": {
          "iopub.status.busy": "2024-09-25T05:36:33.88842Z",
          "iopub.execute_input": "2024-09-25T05:36:33.889128Z",
          "iopub.status.idle": "2024-09-25T05:36:35.371407Z",
          "shell.execute_reply.started": "2024-09-25T05:36:33.889075Z",
          "shell.execute_reply": "2024-09-25T05:36:35.370267Z"
        },
        "trusted": true,
        "id": "_MrDGFVdgbEb"
      },
      "execution_count": null,
      "outputs": []
    },
    {
      "cell_type": "markdown",
      "source": [
        "**Advanced Statistics for Continuous Variables**\n",
        "\n",
        "**Basic statistics** like **mean** and **standard deviation** offer a fundamental grasp of **continuous** variables. Going beyond, **skewness** and **kurtosis** provide advanced insights. Skewness indicates the distribution's asymmetry, with positive values suggesting a longer right tail and negative values indicating a longer left tail. Kurtosis measures the distribution's peakedness, with higher values indicating a more peaked shape. These **advanced statistics** add depth to understanding the nuances of continuous variables, offering a comprehensive view of **distributional characteristics** beyond basic measures."
      ],
      "metadata": {
        "id": "YG7Kzph-gbEb"
      }
    },
    {
      "cell_type": "code",
      "source": [
        "concatenated_series = pd.concat([\n",
        "    df[cont_var].describe().T,\n",
        "    df[cont_var].skew().rename('skewness'),\n",
        "    df[cont_var].kurtosis().rename('kurtosis')\n",
        "], axis=1)\n",
        "\n",
        "\n",
        "# Adding lower and upper confidence intervals\n",
        "confidence_level = 0.95  # 95% confidence interval\n",
        "\n",
        "for var in cont_var:\n",
        "    values = df[var].dropna()\n",
        "    mean = values.mean()\n",
        "    std_error = stats.sem(values)\n",
        "    if std_error != 0:\n",
        "        lower, upper = stats.t.interval(confidence_level, len(values) - 1, loc=mean, scale=std_error)\n",
        "    else:\n",
        "        lower, upper = mean, mean\n",
        "\n",
        "    # Adding lower and upper confidence intervals to the concatenated series\n",
        "    concatenated_series.loc[var, 'lower_ci'] = lower\n",
        "    concatenated_series.loc[var, 'upper_ci'] = upper\n",
        "concatenated_series"
      ],
      "metadata": {
        "execution": {
          "iopub.status.busy": "2024-09-25T05:36:35.375994Z",
          "iopub.execute_input": "2024-09-25T05:36:35.376363Z",
          "iopub.status.idle": "2024-09-25T05:36:35.489286Z",
          "shell.execute_reply.started": "2024-09-25T05:36:35.376325Z",
          "shell.execute_reply": "2024-09-25T05:36:35.488042Z"
        },
        "trusted": true,
        "id": "MkbXKRYMgbEb"
      },
      "execution_count": null,
      "outputs": []
    },
    {
      "cell_type": "code",
      "source": [
        "import matplotlib.pyplot as plt\n",
        "\n",
        "\n",
        "cont_var = ['total ads', 'most ads hour']\n",
        "\n",
        "# Plot histograms for each continuous variable\n",
        "df[cont_var].hist(bins=24, figsize=(12, 5), edgecolor='black')\n",
        "\n",
        "plt.suptitle('Histograms of Continuous Variables')\n",
        "plt.show()\n"
      ],
      "metadata": {
        "execution": {
          "iopub.status.busy": "2024-09-25T05:36:35.49096Z",
          "iopub.execute_input": "2024-09-25T05:36:35.491458Z",
          "iopub.status.idle": "2024-09-25T05:36:36.083166Z",
          "shell.execute_reply.started": "2024-09-25T05:36:35.491406Z",
          "shell.execute_reply": "2024-09-25T05:36:36.081856Z"
        },
        "trusted": true,
        "id": "gtM3KgwqgbEc"
      },
      "execution_count": null,
      "outputs": []
    },
    {
      "cell_type": "code",
      "source": [
        "df.info()"
      ],
      "metadata": {
        "execution": {
          "iopub.status.busy": "2024-09-25T05:36:36.084491Z",
          "iopub.execute_input": "2024-09-25T05:36:36.084833Z",
          "iopub.status.idle": "2024-09-25T05:36:36.153905Z",
          "shell.execute_reply.started": "2024-09-25T05:36:36.084798Z",
          "shell.execute_reply": "2024-09-25T05:36:36.152881Z"
        },
        "trusted": true,
        "id": "BFaymFkUgbEc"
      },
      "execution_count": null,
      "outputs": []
    },
    {
      "cell_type": "markdown",
      "source": [
        "# The Chi-Square Test for independece"
      ],
      "metadata": {
        "id": "FH_J0AcBgbEc"
      }
    },
    {
      "cell_type": "markdown",
      "source": [
        "## Converted and most ads day"
      ],
      "metadata": {
        "id": "5WD7p7CdgbEd"
      }
    },
    {
      "cell_type": "code",
      "source": [
        "import numpy as np\n",
        "import pandas as pd\n",
        "from scipy.stats import norm\n",
        "\n",
        "def OR_CIs(contingency_table):\n",
        "\n",
        "    # Calculate odds ratio\n",
        "    odds_ratio = (contingency_table.iloc[0, 0] / contingency_table.iloc[0, 1]) / (contingency_table.iloc[1, 0] / contingency_table.iloc[1, 1])\n",
        "\n",
        "    # Calculate standard error of log(odds ratio)\n",
        "    log_odds_std_error = np.sqrt(contingency_table.applymap(lambda x: 1/x).sum().sum())\n",
        "\n",
        "    # Set confidence level\n",
        "    confidence_level = 0.95\n",
        "\n",
        "    # Calculate z-score for the confidence interval\n",
        "    z_score = norm.ppf(1-(1 - confidence_level) / 2)\n",
        "\n",
        "    # Calculate confidence intervals\n",
        "    ci_low = np.exp(np.log(odds_ratio) - z_score * log_odds_std_error)\n",
        "    ci_high = np.exp(np.log(odds_ratio) + z_score * log_odds_std_error)\n",
        "\n",
        "    # Print the results\n",
        "    print(f\"Odds Ratio: {odds_ratio:.2f}\")\n",
        "    print(f\"95% Confidence Interval: {ci_low:.2f}, {ci_high:.2f}\")\n",
        "\n",
        "    return"
      ],
      "metadata": {
        "execution": {
          "iopub.status.busy": "2024-09-25T05:36:36.15539Z",
          "iopub.execute_input": "2024-09-25T05:36:36.155827Z",
          "iopub.status.idle": "2024-09-25T05:36:36.166138Z",
          "shell.execute_reply.started": "2024-09-25T05:36:36.155779Z",
          "shell.execute_reply": "2024-09-25T05:36:36.165027Z"
        },
        "trusted": true,
        "id": "6wUc1jiYgbEd"
      },
      "execution_count": null,
      "outputs": []
    },
    {
      "cell_type": "code",
      "source": [
        "import pandas as pd\n",
        "from scipy.stats import chi2_contingency\n",
        "\n",
        "# Create a contingency table\n",
        "contingency_table = pd.crosstab(df['converted'], df['most ads day'])\n",
        "\n",
        "print(\"Contingency Table with Frequencies:\")\n",
        "display(contingency_table)\n",
        "print(\"#\"*60)\n",
        "\n",
        "# Calculate row percentages\n",
        "row_percentages = contingency_table.div(contingency_table.sum(axis=1), axis=0) * 100\n",
        "\n",
        "print(\"\\nRow Percentages:\")\n",
        "display(row_percentages)\n",
        "print(\"#\"*60)\n",
        "\n",
        "# Perform chi-square test\n",
        "chi2, p, dof, expected = chi2_contingency(contingency_table)\n",
        "\n",
        "print(f\"\\nChi-squared value: {chi2}\")\n",
        "print(f\"P-value: {p}\")\n",
        "print(f\"Degrees of freedom: {dof}\")\n",
        "print(\"#\"*60)\n",
        "\n",
        "# Calculate the percentage of cells with expected counts less than 5\n",
        "percentage_low_expected = (expected < 5).sum().sum() / (expected.shape[0] * expected.shape[1]) * 100\n",
        "\n",
        "print(f\"Percentage of cells with expected counts less than 5: {percentage_low_expected:.2f}%\")\n",
        "print(\"#\"*60)\n",
        "\n",
        "# Calculate residuals (observed minus expected values)\n",
        "residuals = contingency_table - expected\n",
        "\n",
        "print(\"\\nResiduals (Observed - Expected):\")\n",
        "display(residuals)\n",
        "print(\"#\"*60)\n",
        "\n",
        "# Calculate odds ratio\n",
        "OR_CIs(contingency_table)"
      ],
      "metadata": {
        "execution": {
          "iopub.status.busy": "2024-09-25T05:36:36.167493Z",
          "iopub.execute_input": "2024-09-25T05:36:36.167835Z",
          "iopub.status.idle": "2024-09-25T05:36:36.409141Z",
          "shell.execute_reply.started": "2024-09-25T05:36:36.167799Z",
          "shell.execute_reply": "2024-09-25T05:36:36.408164Z"
        },
        "trusted": true,
        "id": "ETyeMfMzgbEd"
      },
      "execution_count": null,
      "outputs": []
    },
    {
      "cell_type": "markdown",
      "source": [
        "### Interpretation:\n",
        "\n",
        "#### 1. **Contingency Table:**\n",
        "   - This table shows the count of conversions and non-conversions (True/False) based on the most frequent day users saw ads.\n",
        "   - For example, on Friday, 90,551 users did not convert, and 2,057 users converted.\n",
        "\n",
        "#### 2. **Row Percentages:**\n",
        "   - These percentages show how conversions and non-conversions are distributed across different days.\n",
        "   - Among the users who did not convert, 15.80% saw ads mostly on Friday, while 13.11% saw ads mostly on Tuesday.\n",
        "   - Among users who converted, the largest percentage (19.25%) saw ads mostly on Monday, while the lowest percentage (11.58%) saw ads on Saturday.\n",
        "\n",
        "#### 3. **Chi-Squared Test:**\n",
        "   - **Chi-squared value:** 410.05\n",
        "   - **P-value:** \\(1.93 \\times 10^{-85}\\)\n",
        "   - **Degrees of freedom:** 6\n",
        "   - The very low p-value indicates a statistically significant association between the day users saw the most ads and their conversion status. This suggests that the day on which users saw the most ads had a meaningful impact on whether they converted or not.\n",
        "\n",
        "#### 4. **Residuals:**\n",
        "   - Positive residuals mean that the actual count is higher than the expected count, and negative residuals mean the actual count is lower than expected.\n",
        "   - For example:\n",
        "     - **Monday (True):** The positive residual (659.38) means more people converted on Monday than expected.\n",
        "     - **Saturday (True):** The negative residual (-342.01) indicates fewer people converted on Saturday than expected.\n",
        "\n",
        "#### 5. **Odds Ratio:**\n",
        "   - **Odds ratio:** 1.49 (Confidence Interval: 1.33 to 1.68)\n",
        "   - This means that users who saw ads most frequently on one day are 1.49 times more likely to convert compared to other users. The confidence interval indicates that this effect is likely to be true and not due to random chance.\n",
        "\n",
        "#### 6. **Conclusion:**\n",
        "   - There is a strong association between the day users see the most ads and their conversion likelihood.\n",
        "   - Users seeing ads most frequently on **Monday** tend to convert more, while **Saturday** seems to have the least conversions.\n",
        "   - The overall odds of converting are increased for users based on the day they view ads the most frequently."
      ],
      "metadata": {
        "id": "7bFZCBrfgbEe"
      }
    },
    {
      "cell_type": "markdown",
      "source": [
        "**visulize Converted and most ads day**"
      ],
      "metadata": {
        "id": "kA8oxq1PgbEe"
      }
    },
    {
      "cell_type": "code",
      "source": [
        "import matplotlib.pyplot as plt\n",
        "\n",
        "\n",
        "# Data\n",
        "categories = ['Friday', 'Monday', 'Saturday', 'Sunday', 'Thursday', 'Tuesday', 'Wednesday']\n",
        "false_values = [90551, 84216, 79941, 83301, 81192, 75167, 78890]\n",
        "true_values = [2057, 2857, 1719, 2090, 1790, 2312, 2018]\n",
        "\n",
        "# Create a DataFrame\n",
        "df = pd.DataFrame({\n",
        "    'False': false_values,\n",
        "    'True': true_values\n",
        "}, index=categories)\n",
        "\n",
        "# Plot\n",
        "df.plot(kind='bar', stacked=True, figsize=(10, 6))\n",
        "plt.title('Conversion Frequencies by Most Ads Day')\n",
        "plt.xlabel('Most Ads Day')\n",
        "plt.ylabel('Frequency')\n",
        "plt.xticks(rotation=45)\n",
        "plt.legend(title='Converted')\n",
        "plt.show()\n"
      ],
      "metadata": {
        "execution": {
          "iopub.status.busy": "2024-09-25T05:36:36.410547Z",
          "iopub.execute_input": "2024-09-25T05:36:36.410878Z",
          "iopub.status.idle": "2024-09-25T05:36:36.684654Z",
          "shell.execute_reply.started": "2024-09-25T05:36:36.410843Z",
          "shell.execute_reply": "2024-09-25T05:36:36.683408Z"
        },
        "trusted": true,
        "id": "T_NdJFhbgbEe"
      },
      "execution_count": null,
      "outputs": []
    },
    {
      "cell_type": "code",
      "source": [
        "false_percentages = [15.795855, 14.690768, 13.945030, 14.531154, 14.163256, 13.112246, 13.761692]\n",
        "true_percentages = [13.858384, 19.248130, 11.581217, 14.080711, 12.059557, 15.576366, 13.595634]\n",
        "\n",
        "# Plot\n",
        "fig, ax = plt.subplots(figsize=(10, 6))\n",
        "width = 0.35  # Width of the bars\n",
        "ax.bar(categories, false_percentages, width, label='Non-Converted', color='blue')\n",
        "ax.bar(categories, true_percentages, width, bottom=false_percentages, label='Converted', color='orange')\n",
        "\n",
        "ax.set_xlabel('Most Ads Day')\n",
        "ax.set_ylabel('Row Percentages')\n",
        "ax.set_title('Row Percentages of Conversion Status by Most Ads Day')\n",
        "ax.legend()\n",
        "\n",
        "plt.xticks(rotation=45)\n",
        "plt.show()\n"
      ],
      "metadata": {
        "execution": {
          "iopub.status.busy": "2024-09-25T05:36:36.686159Z",
          "iopub.execute_input": "2024-09-25T05:36:36.686609Z",
          "iopub.status.idle": "2024-09-25T05:36:37.01385Z",
          "shell.execute_reply.started": "2024-09-25T05:36:36.686559Z",
          "shell.execute_reply": "2024-09-25T05:36:37.01283Z"
        },
        "trusted": true,
        "id": "WmLYmU4DgbEe"
      },
      "execution_count": null,
      "outputs": []
    },
    {
      "cell_type": "code",
      "source": [
        "odds_ratio = 1.49\n",
        "conf_int = [1.33, 1.68]\n",
        "\n",
        "plt.figure(figsize=(6, 4))\n",
        "plt.errorbar(1, odds_ratio, yerr=[[odds_ratio - conf_int[0]], [conf_int[1] - odds_ratio]], fmt='o', capsize=5, color='blue')\n",
        "plt.axhline(1, linestyle='--', color='red', label='No Effect (OR=1)')\n",
        "plt.title('Odds Ratio with 95% Confidence Interval')\n",
        "plt.ylabel('Odds Ratio')\n",
        "plt.xlim(0.5, 1.5)\n",
        "plt.xticks([])\n",
        "plt.legend()\n",
        "plt.show()\n"
      ],
      "metadata": {
        "execution": {
          "iopub.status.busy": "2024-09-25T05:36:37.015254Z",
          "iopub.execute_input": "2024-09-25T05:36:37.015622Z",
          "iopub.status.idle": "2024-09-25T05:36:37.254127Z",
          "shell.execute_reply.started": "2024-09-25T05:36:37.015577Z",
          "shell.execute_reply": "2024-09-25T05:36:37.253013Z"
        },
        "trusted": true,
        "id": "vIl5r9tRgbEf"
      },
      "execution_count": null,
      "outputs": []
    },
    {
      "cell_type": "markdown",
      "source": [
        "## Converted and Most ads hour"
      ],
      "metadata": {
        "id": "ShRkFtsUgbEg"
      }
    },
    {
      "cell_type": "markdown",
      "source": [
        "**categorize hours into time slots**"
      ],
      "metadata": {
        "id": "p1gctHs_gbEg"
      }
    },
    {
      "cell_type": "code",
      "source": [
        "# Define a function to categorize hours into time slots\n",
        "def categorize_hour(hour):\n",
        "    if 5 <= hour < 12:\n",
        "        return 'Morning'\n",
        "    elif 12 <= hour < 17:\n",
        "        return 'Afternoon'\n",
        "    elif 17 <= hour < 21:\n",
        "        return 'Evening'\n",
        "    else:\n",
        "        return 'Night'\n",
        "\n",
        "# Apply the function to create a new column in the DataFrame\n",
        "df['time_slot'] = df['most ads hour'].apply(categorize_hour)\n",
        "\n",
        "# Display the updated DataFrame\n",
        "print(df)"
      ],
      "metadata": {
        "execution": {
          "iopub.status.busy": "2024-09-25T05:37:05.416632Z",
          "iopub.execute_input": "2024-09-25T05:37:05.417166Z",
          "iopub.status.idle": "2024-09-25T05:37:05.618172Z",
          "shell.execute_reply.started": "2024-09-25T05:37:05.417114Z",
          "shell.execute_reply": "2024-09-25T05:37:05.616894Z"
        },
        "trusted": true,
        "id": "Fmc8VOT6gbEh"
      },
      "execution_count": null,
      "outputs": []
    },
    {
      "cell_type": "code",
      "source": [
        "\n",
        "\n",
        "# Create a contingency table\n",
        "contingency_table_T = pd.crosstab(df['converted'], df['time_slot'])\n",
        "\n",
        "print(\"Contingency Table with Frequencies:\")\n",
        "display(contingency_table_T)\n",
        "print(\"#\"*60)\n",
        "\n",
        "# Calculate row percentages\n",
        "row_percentages_T = contingency_table_T.div(contingency_table_T.sum(axis=1), axis=0) * 100\n",
        "\n",
        "print(\"\\nRow Percentages:\")\n",
        "display(row_percentages_T)\n",
        "print(\"#\"*60)\n",
        "\n",
        "# Perform chi-square test\n",
        "chi2, p, dof, expected_T = chi2_contingency(contingency_table_T)\n",
        "\n",
        "print(f\"\\nChi-squared value: {chi2}\")\n",
        "print(f\"P-value: {p}\")\n",
        "print(f\"Degrees of freedom: {dof}\")\n",
        "print(\"#\"*60)\n",
        "\n",
        "# Calculate the percentage of cells with expected counts less than 5\n",
        "percentage_low_expected_T = (expected < 5).sum().sum() / (expected.shape[0] * expected.shape[1]) * 100\n",
        "\n",
        "print(f\"Percentage of cells with expected counts less than 5: {percentage_low_expected_T:.2f}%\")\n",
        "print(\"#\"*60)\n",
        "\n",
        "# Calculate residuals (observed minus expected values)\n",
        "residuals_T = contingency_table_T - expected_T\n",
        "\n",
        "print(\"\\nResiduals (Observed - Expected):\")\n",
        "display(residuals_T)\n",
        "print(\"#\"*60)\n",
        "\n",
        "# Calculate odds ratio\n",
        "OR_CIs(contingency_table_T)"
      ],
      "metadata": {
        "execution": {
          "iopub.status.busy": "2024-09-25T05:37:08.551519Z",
          "iopub.execute_input": "2024-09-25T05:37:08.551922Z",
          "iopub.status.idle": "2024-09-25T05:37:08.674242Z",
          "shell.execute_reply.started": "2024-09-25T05:37:08.551884Z",
          "shell.execute_reply": "2024-09-25T05:37:08.673174Z"
        },
        "trusted": true,
        "id": "hEVk2qDHgbEh"
      },
      "execution_count": null,
      "outputs": []
    },
    {
      "cell_type": "markdown",
      "source": [
        "\n",
        "#### 1. **Contingency Table:**\n",
        "   - This table shows the count of conversions and non-conversions (True/False) based on the time slot users saw ads.\n",
        "   - For example, in the **Afternoon**, 216,786 users did not convert, and 6,065 users converted.\n",
        "\n",
        "#### 2. **Row Percentages:**\n",
        "   - These percentages show how conversions and non-conversions are distributed across different time slots.\n",
        "   - Among the users who did not convert, 37.82% saw ads mostly in the **Afternoon**, while 16.29% saw ads mostly at **Night**.\n",
        "   - Among users who converted, 40.86% saw ads in the **Afternoon**, while 15.20% saw ads at **Night**.\n",
        "   - This indicates that a slightly higher percentage of conversions occurred in the **Afternoon** than in other time slots.\n",
        "\n",
        "#### 3. **Chi-Squared Test:**\n",
        "   - **Chi-squared value:** 199.10\n",
        "   - **P-value:** \\(6.60 \\times 10^{-43}\\)\n",
        "   - **Degrees of freedom:** 3\n",
        "   - The very low p-value suggests a statistically significant association between the time slot users saw ads and their conversion status. This indicates that the time slot of the ad exposure has a meaningful impact on whether users convert.\n",
        "\n",
        "#### 4. **Residuals:**\n",
        "   - Positive residuals mean the actual count is higher than expected, and negative residuals mean the actual count is lower than expected.\n",
        "   - For example:\n",
        "     - **Morning (False):** The positive residual (632.61) means that more users who saw ads in the morning did not convert than expected.\n",
        "     - **Afternoon (True):** The positive residual (440.49) indicates that more users converted in the afternoon than expected.\n",
        "\n",
        "#### 5. **Odds Ratio:**\n",
        "   - **Odds ratio:** 1.03 (Confidence Interval: 0.96 to 1.10)\n",
        "   - The odds ratio close to 1 suggests that the time slot when users saw ads does not substantially increase or decrease their likelihood of conversion. In other words, the impact of the time slot on conversion odds is minimal.\n",
        "\n",
        "#### 6. **Conclusion:**\n",
        "   - There is a statistically significant association between the **time slot** users saw ads and their conversion likelihood, but the odds ratio indicates that this effect is small.\n",
        "   - Users who saw ads in the **Afternoon** are slightly more likely to convert, but the difference across time slots is not dramatic.\n",
        "   - The **Afternoon** appears to be the most effective time slot for conversions, while the **Morning** shows more non-conversions than expected. However, the overall effect is not very strong."
      ],
      "metadata": {
        "id": "XY5FC_WrgbEh"
      }
    },
    {
      "cell_type": "markdown",
      "source": [
        "**visulize Converted and most ads hour**"
      ],
      "metadata": {
        "id": "C7oqLgswgbEi"
      }
    },
    {
      "cell_type": "code",
      "source": [
        "import matplotlib.pyplot as plt\n",
        "import pandas as pd\n",
        "\n",
        "# Data\n",
        "categories = ['Afternoon', 'Evening', 'Morning', 'Night']\n",
        "false_values = [216786, 123041, 140041, 93390]\n",
        "true_values = [6065, 3545, 2977, 2256]\n",
        "\n",
        "# Create a DataFrame\n",
        "df = pd.DataFrame({\n",
        "    'False': false_values,\n",
        "    'True': true_values\n",
        "}, index=categories)\n",
        "\n",
        "# Plot\n",
        "df.plot(kind='bar', stacked=True, figsize=(10, 6))\n",
        "plt.title('Conversion Frequencies by Time Slot')\n",
        "plt.xlabel('Time Slot')\n",
        "plt.ylabel('Frequency')\n",
        "plt.xticks(rotation=45)\n",
        "plt.legend(title='Converted')\n",
        "plt.show()\n"
      ],
      "metadata": {
        "execution": {
          "iopub.status.busy": "2024-09-25T05:37:12.925639Z",
          "iopub.execute_input": "2024-09-25T05:37:12.926204Z",
          "iopub.status.idle": "2024-09-25T05:37:13.341084Z",
          "shell.execute_reply.started": "2024-09-25T05:37:12.926154Z",
          "shell.execute_reply": "2024-09-25T05:37:13.34Z"
        },
        "trusted": true,
        "id": "YB8NuiGTgbEi"
      },
      "execution_count": null,
      "outputs": []
    },
    {
      "cell_type": "code",
      "source": [
        "false_percentages = [37.82, 21.46, 24.43, 16.29]\n",
        "true_percentages = [40.86, 23.88, 20.06, 15.20]\n",
        "\n",
        "# Plot\n",
        "fig, ax = plt.subplots(figsize=(10, 6))\n",
        "width = 0.35  # Width of the bars\n",
        "ax.bar(categories, false_percentages, width, label='Non-Converted', color='blue')\n",
        "ax.bar(categories, true_percentages, width, bottom=false_percentages, label='Converted', color='orange')\n",
        "\n",
        "ax.set_xlabel('Time Slot')\n",
        "ax.set_ylabel('Row Percentages')\n",
        "ax.set_title('Row Percentages of Conversion Status by Time Slot')\n",
        "ax.legend()\n",
        "\n",
        "plt.xticks(rotation=45)\n",
        "plt.show()\n"
      ],
      "metadata": {
        "execution": {
          "iopub.status.busy": "2024-09-25T05:37:16.687488Z",
          "iopub.execute_input": "2024-09-25T05:37:16.688043Z",
          "iopub.status.idle": "2024-09-25T05:37:16.996304Z",
          "shell.execute_reply.started": "2024-09-25T05:37:16.687986Z",
          "shell.execute_reply": "2024-09-25T05:37:16.995145Z"
        },
        "trusted": true,
        "id": "fcKybxZ1gbEi"
      },
      "execution_count": null,
      "outputs": []
    },
    {
      "cell_type": "code",
      "source": [
        "odds_ratio = 1.03\n",
        "conf_int = [0.96, 1.10]\n",
        "\n",
        "plt.figure(figsize=(6, 4))\n",
        "plt.errorbar(1, odds_ratio, yerr=[[odds_ratio - conf_int[0]], [conf_int[1] - odds_ratio]], fmt='o', capsize=5, color='blue')\n",
        "plt.axhline(1, linestyle='--', color='red', label='No Effect (OR=1)')\n",
        "plt.title('Odds Ratio with 95% Confidence Interval')\n",
        "plt.ylabel('Odds Ratio')\n",
        "plt.xlim(0.5, 1.5)\n",
        "plt.xticks([])\n",
        "plt.legend()\n",
        "plt.show()\n"
      ],
      "metadata": {
        "execution": {
          "iopub.status.busy": "2024-09-25T05:37:20.137394Z",
          "iopub.execute_input": "2024-09-25T05:37:20.137801Z",
          "iopub.status.idle": "2024-09-25T05:37:20.337631Z",
          "shell.execute_reply.started": "2024-09-25T05:37:20.137765Z",
          "shell.execute_reply": "2024-09-25T05:37:20.336463Z"
        },
        "trusted": true,
        "id": "yKvDR1XngbEi"
      },
      "execution_count": null,
      "outputs": []
    },
    {
      "cell_type": "markdown",
      "source": [
        "## Converted and Test group"
      ],
      "metadata": {
        "id": "Ux0vMQWMgbEj"
      }
    },
    {
      "cell_type": "code",
      "source": [
        "df.info()"
      ],
      "metadata": {
        "execution": {
          "iopub.status.busy": "2024-09-25T05:39:26.693517Z",
          "iopub.execute_input": "2024-09-25T05:39:26.693973Z",
          "iopub.status.idle": "2024-09-25T05:39:26.763498Z",
          "shell.execute_reply.started": "2024-09-25T05:39:26.693919Z",
          "shell.execute_reply": "2024-09-25T05:39:26.762328Z"
        },
        "trusted": true,
        "id": "bpDD1UUegbEj"
      },
      "execution_count": null,
      "outputs": []
    },
    {
      "cell_type": "code",
      "source": [
        "# Create a contingency table\n",
        "contingency_table_CT = pd.crosstab(df['converted'], df['test group'])\n",
        "\n",
        "print(\"Contingency Table with Frequencies:\")\n",
        "display(contingency_table_CT)\n",
        "print(\"#\"*60)\n",
        "\n",
        "# Calculate row percentages\n",
        "row_percentages_CT = contingency_table_CT.div(contingency_table_CT.sum(axis=1), axis=0) * 100\n",
        "\n",
        "print(\"\\nRow Percentages:\")\n",
        "display(row_percentages_CT)\n",
        "print(\"#\"*60)\n",
        "\n",
        "# Perform chi-square test\n",
        "chi2, p, dof, expected_CT = chi2_contingency(contingency_table_CT)\n",
        "\n",
        "print(f\"\\nChi-squared value: {chi2}\")\n",
        "print(f\"P-value: {p}\")\n",
        "print(f\"Degrees of freedom: {dof}\")\n",
        "print(\"#\"*60)\n",
        "\n",
        "# Calculate the percentage of cells with expected counts less than 5\n",
        "percentage_low_expected_CT = (expected < 5).sum().sum() / (expected.shape[0] * expected.shape[1]) * 100\n",
        "\n",
        "print(f\"Percentage of cells with expected counts less than 5: {percentage_low_expected_CT:.2f}%\")\n",
        "print(\"#\"*60)\n",
        "\n",
        "# Calculate residuals (observed minus expected values)\n",
        "residuals_CT = contingency_table_CT - expected_CT\n",
        "\n",
        "print(\"\\nResiduals (Observed - Expected):\")\n",
        "display(residuals_CT)\n",
        "print(\"#\"*60)\n",
        "\n",
        "# Calculate odds ratio\n",
        "OR_CIs(contingency_table_CT)"
      ],
      "metadata": {
        "execution": {
          "iopub.status.busy": "2024-09-25T05:43:33.362077Z",
          "iopub.execute_input": "2024-09-25T05:43:33.362542Z",
          "iopub.status.idle": "2024-09-25T05:43:33.474918Z",
          "shell.execute_reply.started": "2024-09-25T05:43:33.362498Z",
          "shell.execute_reply": "2024-09-25T05:43:33.473752Z"
        },
        "trusted": true,
        "id": "HsLc5zgTgbEj"
      },
      "execution_count": null,
      "outputs": []
    },
    {
      "cell_type": "markdown",
      "source": [
        "### * Percentage of Cells with Expected Counts Less Than 5:\n",
        "\n",
        "0.00% of cells have expected counts less than 5, indicating that the chi-squared test assumptions are met and the results are valid.\n",
        "\n",
        "### * Residuals (Observed - Expected)\n",
        "\n",
        "The positive residual for the \"psa\" group (173.72) indicates that more people converted than expected, while the negative residual for the \"ad\" group (-173.72) suggests fewer conversions than expected. This reinforces the observation that the ads did not perform as well as anticipated compared to the public service announcements.\n",
        "\n",
        "### * Odds Ratio:\n",
        "\n",
        "The odds ratio of 0.69 suggests that the odds of conversion in the \"ad\" group are lower compared to the \"psa\" group. Specifically, for every unit increase in the \"psa\" group, the odds of conversion decrease by about 31% (1 - 0.69 = 0.31). The confidence interval not crossing 1 reinforces the significance of this finding.\n",
        "\n",
        "### * conclusion:\n",
        "\n",
        "the analysis indicates a significant difference in conversion rates between the ad and psa groups, with the ads showing a lower conversion rate. This suggests that the advertisement campaign might not have been effective, and companies may want to reconsider their strategies or conduct further testing to optimize their approach.\n"
      ],
      "metadata": {
        "id": "E72bvx5BgbEj"
      }
    },
    {
      "cell_type": "markdown",
      "source": [
        "**Let's visulize the result:**"
      ],
      "metadata": {
        "id": "3F_eD0ihgbEk"
      }
    },
    {
      "cell_type": "code",
      "source": [
        "import matplotlib.pyplot as plt\n",
        "\n",
        "# Data for 'ad' and 'psa' groups\n",
        "labels = ['Not Converted', 'Converted']\n",
        "sizes_ad = [550154, 14423]  # False, True counts for 'ad'\n",
        "sizes_psa = [23104, 420]    # False, True counts for 'psa']\n",
        "colors = ['#ff9999', '#66b3ff']\n",
        "explode = (0.1, 0)  # explode 1st slice (Not Converted)\n",
        "\n",
        "# Create subplots for side-by-side pie charts\n",
        "fig, axes = plt.subplots(1, 2, figsize=(12, 6))\n",
        "\n",
        "# Pie chart for 'ad' group\n",
        "axes[0].pie(sizes_ad, explode=explode, labels=labels, colors=colors, autopct='%1.1f%%', startangle=140)\n",
        "axes[0].set_title('Conversion Status in Ad Group')\n",
        "axes[0].axis('equal')  # Equal aspect ratio ensures the pie is drawn as a circle.\n",
        "\n",
        "# Pie chart for 'psa' group\n",
        "axes[1].pie(sizes_psa, explode=explode, labels=labels, colors=colors, autopct='%1.1f%%', startangle=140)\n",
        "axes[1].set_title('Conversion Status in PSA Group')\n",
        "axes[1].axis('equal')  # Equal aspect ratio ensures the pie is drawn as a circle.\n",
        "\n",
        "# Display both pie charts\n",
        "plt.tight_layout()\n",
        "plt.show()\n"
      ],
      "metadata": {
        "execution": {
          "iopub.status.busy": "2024-09-25T06:04:05.555487Z",
          "iopub.execute_input": "2024-09-25T06:04:05.556344Z",
          "iopub.status.idle": "2024-09-25T06:04:05.981273Z",
          "shell.execute_reply.started": "2024-09-25T06:04:05.556214Z",
          "shell.execute_reply": "2024-09-25T06:04:05.979924Z"
        },
        "trusted": true,
        "id": "F75bMDuNgbEk"
      },
      "execution_count": null,
      "outputs": []
    },
    {
      "cell_type": "code",
      "source": [
        "odds_ratio = 0.69  # This is a placeholder value\n",
        "conf_int = [0.63, 0.76]  # Confidence interval for the odds ratio\n",
        "\n",
        "plt.figure(figsize=(6, 4))\n",
        "plt.errorbar(1, odds_ratio, yerr=[[odds_ratio - conf_int[0]], [conf_int[1] - odds_ratio]], fmt='o', capsize=5, color='blue')\n",
        "plt.axhline(1, linestyle='--', color='red', label='No Effect (OR=1)')\n",
        "plt.title('Odds Ratio with 95% Confidence Interval')\n",
        "plt.ylabel('Odds Ratio')\n",
        "plt.xlim(0.5, 1.5)\n",
        "plt.xticks([])\n",
        "plt.legend()\n",
        "plt.show()"
      ],
      "metadata": {
        "execution": {
          "iopub.status.busy": "2024-09-25T06:00:00.349606Z",
          "iopub.execute_input": "2024-09-25T06:00:00.350105Z",
          "iopub.status.idle": "2024-09-25T06:00:00.595643Z",
          "shell.execute_reply.started": "2024-09-25T06:00:00.350064Z",
          "shell.execute_reply": "2024-09-25T06:00:00.594248Z"
        },
        "trusted": true,
        "id": "f4HVz2DfgbEk"
      },
      "execution_count": null,
      "outputs": []
    },
    {
      "cell_type": "markdown",
      "source": [
        "# Independent Samples t-Test"
      ],
      "metadata": {
        "id": "6fpbTkgKgbEk"
      }
    },
    {
      "cell_type": "markdown",
      "source": [
        "## Converted and Total ads"
      ],
      "metadata": {
        "id": "K8M6EGzJgbEl"
      }
    },
    {
      "cell_type": "markdown",
      "source": [
        "**Assumption of Homogeneity of Variance in Independent Samples t-Test**"
      ],
      "metadata": {
        "id": "45iq4kB2gbEl"
      }
    },
    {
      "cell_type": "code",
      "source": [
        "\n",
        "from scipy.stats import levene\n",
        "\n",
        "\n",
        "# Separate the 'time' data into two groups based on the 'converted' column\n",
        "groupN = df[df['converted'] == False]['total ads']\n",
        "groupY = df[df['converted'] == True]['total ads']\n",
        "\n",
        "# Perform Levene's test for homogeneity of variances\n",
        "statistic, p_value = levene(groupN, groupY)\n",
        "\n",
        "# Print the results\n",
        "print(\"Levene's test statistic:\", statistic)\n",
        "print(\"p-value:\", p_value)\n",
        "\n",
        "# Determine significance\n",
        "alpha = 0.05\n",
        "if p_value < alpha:\n",
        "    print(\"Reject the null hypothesis: Variances are not homogeneous between groups.\")\n",
        "else:\n",
        "    print(\"Fail to reject the null hypothesis: Variances are homogeneous between groups.\")"
      ],
      "metadata": {
        "execution": {
          "iopub.status.busy": "2024-09-25T05:37:59.915375Z",
          "iopub.execute_input": "2024-09-25T05:37:59.915803Z",
          "iopub.status.idle": "2024-09-25T05:37:59.970783Z",
          "shell.execute_reply.started": "2024-09-25T05:37:59.915763Z",
          "shell.execute_reply": "2024-09-25T05:37:59.969453Z"
        },
        "trusted": true,
        "id": "vg0vfSrwgbEl"
      },
      "execution_count": null,
      "outputs": []
    },
    {
      "cell_type": "markdown",
      "source": [
        "**T-Test with Non-Met Equal Variance Assumption**"
      ],
      "metadata": {
        "id": "aoYyXPfRgbEm"
      }
    },
    {
      "cell_type": "code",
      "source": [
        "from scipy.stats import ttest_ind\n",
        "\n",
        "\n",
        "# Separate the data into two groups based on the 'converted' column\n",
        "groupN = df[df['converted'] == False]['total ads']\n",
        "groupY = df[df['converted'] == True]['total ads']\n",
        "# Perform two-sample t-test\n",
        "t_statistic, p_value = ttest_ind(groupN, groupY, equal_var=False)\n",
        "\n",
        "# Print the results\n",
        "print(\"t-statistic:\", t_statistic)\n",
        "print(\"p-value:\", p_value)\n",
        "\n",
        "# Determine significance\n",
        "alpha = 0.05\n",
        "if p_value < alpha:\n",
        "    print(\"Reject the null hypothesis: There is a significant difference between the means.\")\n",
        "else:\n",
        "    print(\"Fail to reject the null hypothesis: There is no significant difference between the means.\")"
      ],
      "metadata": {
        "execution": {
          "iopub.status.busy": "2024-09-25T05:38:02.092808Z",
          "iopub.execute_input": "2024-09-25T05:38:02.093811Z",
          "iopub.status.idle": "2024-09-25T05:38:02.147343Z",
          "shell.execute_reply.started": "2024-09-25T05:38:02.09376Z",
          "shell.execute_reply": "2024-09-25T05:38:02.146034Z"
        },
        "trusted": true,
        "id": "ldSwrxnUgbEm"
      },
      "execution_count": null,
      "outputs": []
    },
    {
      "cell_type": "markdown",
      "source": [
        "### Interpretation of the Statistical Tests:\n",
        "\n",
        "#### 1. **Levene's Test for Homogeneity of Variances:**\n",
        "   - **Levene's test statistic:** 9121.20\n",
        "   - **p-value:** 0.0\n",
        "   - The **p-value** is less than the significance level \\(\\alpha = 0.05\\), so we **reject the null hypothesis**, which states that the variances are equal between the two groups (converted and non-converted).\n",
        "   - This means that the variances of **total ads** between users who converted and those who did not are significantly different, implying unequal spread of the data in each group.\n",
        "\n",
        "#### 2. **Independent t-test (with unequal variances):**\n",
        "   - **t-statistic:** -84.18\n",
        "   - **p-value:** 0.0\n",
        "   - The **p-value** is also less than \\(\\alpha = 0.05\\), so we **reject the null hypothesis**. This means there is a statistically significant difference in the means of **total ads** seen between the converted and non-converted groups.\n",
        "   - Since the **t-statistic** is negative, it indicates that the mean number of ads seen by the non-converted group is higher than the mean for the converted group.\n",
        "\n",
        "#### **Conclusion:**\n",
        "   - The variances between the two groups are not homogeneous, as indicated by Levene's test.\n",
        "   - There is a significant difference in the means of **total ads** seen between the groups. On average, users who did not convert saw more ads than those who converted.\n",
        "   \n",
        "This suggests that exposing users to more ads does not necessarily increase the likelihood of conversion, and there might be an optimal threshold of ad exposure beyond which users do not engage further."
      ],
      "metadata": {
        "id": "e2qGNDJGgbEm"
      }
    },
    {
      "cell_type": "code",
      "source": [
        "# Descriptive statistics for the 'total ads' seen by converted and non-converted groups\n",
        "print(groupN.describe())  # Non-converted group\n",
        "print(groupY.describe())  # Converted group\n"
      ],
      "metadata": {
        "execution": {
          "iopub.status.busy": "2024-09-25T05:38:05.19158Z",
          "iopub.execute_input": "2024-09-25T05:38:05.192072Z",
          "iopub.status.idle": "2024-09-25T05:38:05.220378Z",
          "shell.execute_reply.started": "2024-09-25T05:38:05.192027Z",
          "shell.execute_reply": "2024-09-25T05:38:05.219328Z"
        },
        "trusted": true,
        "id": "exDGChvrgbEn"
      },
      "execution_count": null,
      "outputs": []
    },
    {
      "cell_type": "markdown",
      "source": [
        "\n",
        "\n",
        "### Key Insights:\n",
        "- **Converted users saw more ads on average (mean = 83.89)** compared to **non-converted users (mean = 23.29)**.\n",
        "- The **converted group** has a much higher spread of total ads seen, with both the standard deviation (87.46) and the interquartile range (from 35 to 103 ads) being larger than that of the non-converted group.\n",
        "- **Non-converted users** tend to have lower total ad exposure, as seen by the **median of 13 ads** compared to **64 ads** in the converted group.\n",
        "\n",
        "These statistics highlight a clear difference between the groups, suggesting that **converted users are exposed to significantly more ads** on average. This ties into the earlier result showing a significant difference in ad exposure between the two groups."
      ],
      "metadata": {
        "id": "YFH9NvH1gbEn"
      }
    },
    {
      "cell_type": "code",
      "source": [
        "import numpy as np\n",
        "\n",
        "# Mean and standard deviation for both groups\n",
        "meanN, meanY = np.mean(groupN), np.mean(groupY)\n",
        "stdN, stdY = np.std(groupN, ddof=1), np.std(groupY, ddof=1)\n",
        "\n",
        "# Compute pooled standard deviation\n",
        "pooled_std = np.sqrt(((len(groupN) - 1) * stdN**2 + (len(groupY) - 1) * stdY**2) / (len(groupN) + len(groupY) - 2))\n",
        "\n",
        "# Calculate Cohen's d\n",
        "cohen_d = (meanN - meanY) / pooled_std\n",
        "print(f\"Cohen's d: {cohen_d}\")\n"
      ],
      "metadata": {
        "execution": {
          "iopub.status.busy": "2024-09-25T05:38:07.656328Z",
          "iopub.execute_input": "2024-09-25T05:38:07.656753Z",
          "iopub.status.idle": "2024-09-25T05:38:07.670224Z",
          "shell.execute_reply.started": "2024-09-25T05:38:07.656714Z",
          "shell.execute_reply": "2024-09-25T05:38:07.668974Z"
        },
        "trusted": true,
        "id": "SzYSKx86gbEn"
      },
      "execution_count": null,
      "outputs": []
    },
    {
      "cell_type": "markdown",
      "source": [
        "### Interpretation of Cohen's d:\n",
        "\n",
        "- **Cohen's d:** -1.42\n",
        "\n",
        "Cohen's d measures the **effect size**, or the magnitude of the difference between the two groups (converted and non-converted) in terms of **total ads** seen.\n",
        "\n",
        "#### Interpretation of the Value:\n",
        "- A **Cohen's d** of **-1.42** is considered a **large effect size**. This means that the difference in the number of ads seen between the converted and non-converted groups is **substantial**.\n",
        "- The negative sign indicates that the **non-converted** group saw **more ads** than the **converted** group, reinforcing the finding that users who do not convert tend to see significantly more ads.\n",
        "\n",
        "#### General Guidelines for Cohen's d:\n",
        "- **0.2** = small effect\n",
        "- **0.5** = medium effect\n",
        "- **0.8** or higher = large effect\n",
        "\n",
        "With a **Cohen's d** of -1.42, this is a **strong difference**, suggesting that the exposure to ads is meaningfully different between the two groups, with **non-converted** users experiencing significantly more ad exposure."
      ],
      "metadata": {
        "id": "JrQb4o7KgbEo"
      }
    },
    {
      "cell_type": "markdown",
      "source": [
        "# A/B Test the equality of proportions hypothesis"
      ],
      "metadata": {
        "id": "PDV4YA5DgbEo"
      }
    },
    {
      "cell_type": "code",
      "source": [
        "cross_tab = pd.crosstab(df['test group'], df['converted'], normalize='index')\n",
        "cross_tab"
      ],
      "metadata": {
        "execution": {
          "iopub.status.busy": "2024-09-25T05:38:10.174174Z",
          "iopub.execute_input": "2024-09-25T05:38:10.175569Z",
          "iopub.status.idle": "2024-09-25T05:38:10.264305Z",
          "shell.execute_reply.started": "2024-09-25T05:38:10.175509Z",
          "shell.execute_reply": "2024-09-25T05:38:10.263097Z"
        },
        "trusted": true,
        "id": "jF-oDBpMgbEo"
      },
      "execution_count": null,
      "outputs": []
    },
    {
      "cell_type": "markdown",
      "source": [
        "## **Define the null and alternative hypothsis**\n",
        "\n",
        "* Null Hypothesis (H₀): there is no difference in the conversion rates between the test group\n",
        "* Alternative Hypothesis : there is a difference in the conversion rates between the test group and the control group"
      ],
      "metadata": {
        "id": "pyT9n3bdgbEo"
      }
    },
    {
      "cell_type": "markdown",
      "source": [
        "## **Set the probability of type I and type II errors**\n",
        "\n",
        "* we set : α=0.05 and β=0.2."
      ],
      "metadata": {
        "id": "e9Gre-j3gbEp"
      }
    },
    {
      "cell_type": "markdown",
      "source": [
        "## **Calculate the sample size**"
      ],
      "metadata": {
        "id": "D_2gQGyQgbEp"
      }
    },
    {
      "cell_type": "markdown",
      "source": [
        "Based on the provided conversion data, we have the conversion rates for two groups in an A/B test: one group that saw the advertisement (\"ad\") and another that saw a public service announcement (\"psa\"). The conversion rates are calculated as follows:\n",
        "\n",
        "**Ad Group:**\n",
        "\n",
        "* Conversion Rate: 2.55% (0.025547)\n",
        "\n",
        "**PSA Group:**\n",
        "\n",
        "* Conversion Rate: 1.79% (0.017854)\n",
        "To determine the sample size needed for such an A/B test, you can use these conversion rates as your baseline rates (p1 and p2). Here's how you can proceed:\n",
        "Steps to Determine Sample Size\n",
        "\n",
        "**Define Parameters:**\n",
        "\n",
        "* Baseline Conversion Rate (p1): Use the conversion rate of the PSA group, which is 1.79%.\n",
        "* Expected Conversion Rate (p2): Use the conversion rate of the Ad group, which is 2.55%.\n",
        "* Significance Level (α): Typically set at 0.05.\n",
        "* Power (1-β): Typically set at 0.8 (80%)."
      ],
      "metadata": {
        "id": "wIrKQo7cgbEp"
      }
    },
    {
      "cell_type": "code",
      "source": [
        "from statsmodels.stats.power import NormalIndPower\n",
        "\n",
        "# Parameters\n",
        "alpha = 0.05  # Significance level\n",
        "power = 0.8   # Power\n",
        "p1 = 0.017854  # Conversion rate for control group (psa)\n",
        "p2 = 0.025547  # Conversion rate for test group (ad)\n",
        "\n",
        "# Calculate the average conversion rate\n",
        "p = (p1 + p2) / 2\n",
        "\n",
        "# Calculate the effect size\n",
        "effect_size = (p2 - p1) / ((p * (1 - p)) ** 0.5)\n",
        "\n",
        "# Calculate the sample size per group\n",
        "power_analysis = NormalIndPower()\n",
        "sample_size = power_analysis.solve_power(effect_size=effect_size, power=power, alpha=alpha, ratio=1)\n",
        "\n",
        "print(f\"Required sample size per group: {int(sample_size)}\")\n"
      ],
      "metadata": {
        "execution": {
          "iopub.status.busy": "2024-09-25T05:38:13.038932Z",
          "iopub.execute_input": "2024-09-25T05:38:13.039392Z",
          "iopub.status.idle": "2024-09-25T05:38:13.108191Z",
          "shell.execute_reply.started": "2024-09-25T05:38:13.039344Z",
          "shell.execute_reply": "2024-09-25T05:38:13.107008Z"
        },
        "trusted": true,
        "id": "7hN5OUvGgbEq"
      },
      "execution_count": null,
      "outputs": []
    },
    {
      "cell_type": "markdown",
      "source": [
        "## Choose samples"
      ],
      "metadata": {
        "id": "Arkhrv3NgbEq"
      }
    },
    {
      "cell_type": "code",
      "source": [
        "def choose_random_sample(data,random_state=42):\n",
        "    return data.sample(n=int(sample_size), random_state=random_state)\n",
        "\n",
        "# Apply the function to each group using groupby\n",
        "df_smpl = df.groupby('test group', group_keys=False).apply(choose_random_sample)\n",
        "\n",
        "# Displaying the random sample\n",
        "print(df_smpl)"
      ],
      "metadata": {
        "execution": {
          "iopub.status.busy": "2024-09-25T05:38:16.151131Z",
          "iopub.execute_input": "2024-09-25T05:38:16.151583Z",
          "iopub.status.idle": "2024-09-25T05:38:16.263604Z",
          "shell.execute_reply.started": "2024-09-25T05:38:16.151544Z",
          "shell.execute_reply": "2024-09-25T05:38:16.262327Z"
        },
        "trusted": true,
        "id": "RGdl1JmdgbEq"
      },
      "execution_count": null,
      "outputs": []
    },
    {
      "cell_type": "markdown",
      "source": [
        "## visulize samples"
      ],
      "metadata": {
        "id": "epxy6XMzgbEr"
      }
    },
    {
      "cell_type": "code",
      "source": [
        "import seaborn as sns\n",
        "import matplotlib.pyplot as plt\n",
        "fig, ax = plt.subplots(figsize=(8, 5))\n",
        "\n",
        "sns.countplot(df, x='test group', hue='converted', ax=ax)\n",
        "\n",
        "plt.show()"
      ],
      "metadata": {
        "execution": {
          "iopub.status.busy": "2024-09-25T05:38:19.090133Z",
          "iopub.execute_input": "2024-09-25T05:38:19.090715Z",
          "iopub.status.idle": "2024-09-25T05:38:20.069258Z",
          "shell.execute_reply.started": "2024-09-25T05:38:19.090659Z",
          "shell.execute_reply": "2024-09-25T05:38:20.067979Z"
        },
        "trusted": true,
        "id": "1cobVnzQgbEr"
      },
      "execution_count": null,
      "outputs": []
    },
    {
      "cell_type": "markdown",
      "source": [
        "## **Test the equality of proportions hypothesis**"
      ],
      "metadata": {
        "id": "b1uW1tP6gbEs"
      }
    },
    {
      "cell_type": "code",
      "source": [
        "import pandas as pd\n",
        "import statsmodels.api as sm\n",
        "\n",
        "# Create the contingency table\n",
        "contingency_table_Z = pd.crosstab(df_smpl['test group'], df_smpl['converted'])\n",
        "\n",
        "\n",
        "print(\"Contingency Table with Frequencies:\")\n",
        "print(contingency_table_Z)\n",
        "print(\"#\"*60)\n",
        "\n",
        "# Calculate row percentages\n",
        "row_percentages = contingency_table_Z.div(contingency_table_Z.sum(axis=1), axis=0) * 100\n",
        "\n",
        "print(\"\\nRow Percentages:\")\n",
        "print(row_percentages)\n",
        "print(\"#\"*60)\n",
        "\n",
        "# Count the number of successes and trials in each group\n",
        "success_ad = contingency_table_Z.loc['ad', True]\n",
        "trials_ad = contingency_table_Z.loc['ad', False] + contingency_table_Z.loc['ad', True]\n",
        "\n",
        "success_psa = contingency_table_Z.loc['psa', True]\n",
        "trials_psa = contingency_table_Z.loc['psa', False] + contingency_table_Z.loc['psa', True]\n",
        "\n",
        "# Perform the z-test for proportions\n",
        "z_stat, p_value = sm.stats.proportions_ztest(\n",
        "    [success_ad, success_psa],\n",
        "    [trials_ad, trials_psa],\n",
        "    alternative='larger'\n",
        ")\n",
        "\n",
        "# Print the results\n",
        "print(f\"Z-statistic: {z_stat}\")\n",
        "print(f\"P-value: {p_value}\")\n",
        "\n",
        "# Interpret the results\n",
        "alpha = 0.05\n",
        "if p_value < alpha:\n",
        "    print(\"Reject the null hypothesis. There is a significant difference in proportions.\")\n",
        "else:\n",
        "    print(\"Fail to reject the null hypothesis. Proportions are not significantly different.\")"
      ],
      "metadata": {
        "execution": {
          "iopub.status.busy": "2024-09-25T05:38:23.244705Z",
          "iopub.execute_input": "2024-09-25T05:38:23.245268Z",
          "iopub.status.idle": "2024-09-25T05:38:24.85182Z",
          "shell.execute_reply.started": "2024-09-25T05:38:23.245225Z",
          "shell.execute_reply": "2024-09-25T05:38:24.850522Z"
        },
        "trusted": true,
        "id": "Do0tcqR4gbEs"
      },
      "execution_count": null,
      "outputs": []
    },
    {
      "cell_type": "markdown",
      "source": [
        "* A p-value of 0.0033 is less than the significance level (typically 0.05), meaning we reject the null hypothesis.\n",
        "\n",
        "* This indicates that there is a statistically significant difference in the proportions of conversions between the ad group and the PSA group. The difference in the proportions (2.66% vs. 1.90%) is not due to random chance."
      ],
      "metadata": {
        "id": "4Ayw5CjvgbEs"
      }
    },
    {
      "cell_type": "code",
      "source": [
        "import matplotlib.pyplot as plt\n",
        "\n",
        "# Data from the contingency table\n",
        "groups = ['ad', 'psa']\n",
        "false_values = [5481, 5524]\n",
        "true_values = [150, 107]\n",
        "\n",
        "# Plot a grouped bar chart\n",
        "bar_width = 0.35\n",
        "index = range(len(groups))\n",
        "\n",
        "plt.bar(index, false_values, bar_width, label='Non-converted', color='blue')\n",
        "plt.bar([i + bar_width for i in index], true_values, bar_width, label='Converted', color='orange')\n",
        "\n",
        "plt.xlabel('Test Group')\n",
        "plt.ylabel('Count')\n",
        "plt.title('Converted vs Non-Converted in Ad and PSA Groups')\n",
        "plt.xticks([i + bar_width / 2 for i in index], groups)\n",
        "plt.legend()\n",
        "plt.show()\n"
      ],
      "metadata": {
        "execution": {
          "iopub.status.busy": "2024-09-25T05:38:27.64241Z",
          "iopub.execute_input": "2024-09-25T05:38:27.64302Z",
          "iopub.status.idle": "2024-09-25T05:38:27.855243Z",
          "shell.execute_reply.started": "2024-09-25T05:38:27.642973Z",
          "shell.execute_reply": "2024-09-25T05:38:27.854023Z"
        },
        "trusted": true,
        "id": "X1phZ3KEgbEt"
      },
      "execution_count": null,
      "outputs": []
    },
    {
      "cell_type": "code",
      "source": [
        "import numpy as np\n",
        "import scipy.stats as stats\n",
        "import matplotlib.pyplot as plt\n",
        "\n",
        "# Z-statistic and p-value (from your z-test result)\n",
        "z_stat = 2.7134050689178086\n",
        "p_value = 0.003329782308620703  # From your z-test result\n",
        "alpha = 0.05\n",
        "\n",
        "# Generate data for normal distribution\n",
        "z_values = np.linspace(-4, 4, 1000)\n",
        "y_values = stats.norm.pdf(z_values)\n",
        "\n",
        "# Plot the z-distribution\n",
        "plt.plot(z_values, y_values, label='Standard Normal Distribution')\n",
        "plt.axvline(z_stat, color='red', linestyle='--', label=f'Z-statistic = {z_stat:.2f}')\n",
        "plt.fill_between(z_values, y_values, where=(z_values < stats.norm.ppf(alpha)), color='red', alpha=0.5, label=f'Critical region (α={alpha})')\n",
        "\n",
        "# Add the p-value as text on the plot\n",
        "plt.text(z_stat + 0.2, 0.1, f'p-value = {p_value:.3f}', color='black', fontsize=12)\n",
        "\n",
        "plt.title('Z-Test Distribution with p-value')\n",
        "plt.xlabel('Z-value')\n",
        "plt.ylabel('Probability Density')\n",
        "plt.legend()\n",
        "plt.show()\n"
      ],
      "metadata": {
        "execution": {
          "iopub.status.busy": "2024-09-25T05:38:30.913558Z",
          "iopub.execute_input": "2024-09-25T05:38:30.914Z",
          "iopub.status.idle": "2024-09-25T05:38:31.288457Z",
          "shell.execute_reply.started": "2024-09-25T05:38:30.913934Z",
          "shell.execute_reply": "2024-09-25T05:38:31.287049Z"
        },
        "trusted": true,
        "id": "kagmO5PEgbEt"
      },
      "execution_count": null,
      "outputs": []
    },
    {
      "cell_type": "markdown",
      "source": [
        "## **Calculate the confidence interval for odds ratio**"
      ],
      "metadata": {
        "id": "NcqPfLgogbEu"
      }
    },
    {
      "cell_type": "code",
      "source": [
        "import numpy as np\n",
        "import pandas as pd\n",
        "from scipy.stats import norm\n",
        "\n",
        "def OR_CIs(contingency_table):\n",
        "\n",
        "    # Calculate odds ratio\n",
        "    odds_ratio = (contingency_table.iloc[0, 0] / contingency_table.iloc[0, 1]) / (contingency_table.iloc[1, 0] / contingency_table.iloc[1, 1])\n",
        "\n",
        "    # Calculate standard error of log(odds ratio)\n",
        "    log_odds_std_error = np.sqrt(contingency_table.applymap(lambda x: 1/x).sum().sum())\n",
        "\n",
        "    # Set confidence level\n",
        "    confidence_level = 0.95\n",
        "\n",
        "    # Calculate z-score for the confidence interval\n",
        "    z_score = norm.ppf(1-(1 - confidence_level) / 2)\n",
        "\n",
        "    # Calculate confidence intervals\n",
        "    ci_low = np.exp(np.log(odds_ratio) - z_score * log_odds_std_error)\n",
        "    ci_high = np.exp(np.log(odds_ratio) + z_score * log_odds_std_error)\n",
        "\n",
        "    # Print the results\n",
        "    print(f\"Odds Ratio: {odds_ratio:.2f}\")\n",
        "    print(f\"95% Confidence Interval: {ci_low:.2f}, {ci_high:.2f}\")\n",
        "\n",
        "    return\n",
        "# Calculate the confidence interval for odds ratio\n",
        "OR_CIs(contingency_table_Z)"
      ],
      "metadata": {
        "execution": {
          "iopub.status.busy": "2024-09-25T05:38:34.054661Z",
          "iopub.execute_input": "2024-09-25T05:38:34.055091Z",
          "iopub.status.idle": "2024-09-25T05:38:34.067313Z",
          "shell.execute_reply.started": "2024-09-25T05:38:34.055048Z",
          "shell.execute_reply": "2024-09-25T05:38:34.066021Z"
        },
        "trusted": true,
        "id": "qAp1Qg94gbEu"
      },
      "execution_count": null,
      "outputs": []
    },
    {
      "cell_type": "markdown",
      "source": [
        "* The odds ratio of 0.71 means that the odds of converting in the ad group are 29% lower (1 - 0.71 = 0.29) than in the PSA group.\n",
        "\n",
        "* The confidence interval (0.55 to 0.91) does not include 1, which indicates that the result is statistically significant. In other words, we are 95% confident that the true odds ratio lies within this range, confirming that there is a difference in conversion odds between the groups."
      ],
      "metadata": {
        "id": "I43rYs4HgbEv"
      }
    },
    {
      "cell_type": "code",
      "source": [
        "odds_ratio = 0.71  # This is a placeholder value\n",
        "conf_int = [0.55, 0.91]  # Confidence interval for the odds ratio\n",
        "\n",
        "plt.figure(figsize=(6, 4))\n",
        "plt.errorbar(1, odds_ratio, yerr=[[odds_ratio - conf_int[0]], [conf_int[1] - odds_ratio]], fmt='o', capsize=5, color='blue')\n",
        "plt.axhline(1, linestyle='--', color='red', label='No Effect (OR=1)')\n",
        "plt.title('Odds Ratio with 95% Confidence Interval')\n",
        "plt.ylabel('Odds Ratio')\n",
        "plt.xlim(0.5, 1.5)\n",
        "plt.xticks([])\n",
        "plt.legend()\n",
        "plt.show()"
      ],
      "metadata": {
        "execution": {
          "iopub.status.busy": "2024-09-25T05:38:37.06377Z",
          "iopub.execute_input": "2024-09-25T05:38:37.064185Z",
          "iopub.status.idle": "2024-09-25T05:38:37.290698Z",
          "shell.execute_reply.started": "2024-09-25T05:38:37.064147Z",
          "shell.execute_reply": "2024-09-25T05:38:37.289368Z"
        },
        "trusted": true,
        "id": "q0jqVpBVgbEv"
      },
      "execution_count": null,
      "outputs": []
    },
    {
      "cell_type": "markdown",
      "source": [
        "**Overall Interpretation:**\n",
        "\n",
        "* **There is a statistically significant difference** in conversion rates between the ad and PSA groups.\n",
        "\n",
        "* Although the conversion rate in the ad group (2.66%) is slightly higher than in the PSA group (1.90%), the odds ratio of 0.71 suggests that users exposed to the ad have **lower odds of converting** than those exposed to the PSA.\n",
        "\n",
        "* While the ad group had a higher conversion percentage, the odds ratio indicates that **users in the PSA group had a better relative chance of converting** compared to the ad group, when accounting for odds rather than raw proportions."
      ],
      "metadata": {
        "id": "zOMgbkw9gbEv"
      }
    }
  ]
}